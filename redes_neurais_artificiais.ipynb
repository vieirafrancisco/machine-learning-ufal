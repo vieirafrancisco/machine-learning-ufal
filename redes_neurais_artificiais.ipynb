{
  "nbformat": 4,
  "nbformat_minor": 0,
  "metadata": {
    "colab": {
      "name": "redes-neurais-artificiais.ipynb",
      "provenance": [],
      "collapsed_sections": [],
      "authorship_tag": "ABX9TyOT+3j6WsvhquyqvWnTAA4Y",
      "include_colab_link": true
    },
    "kernelspec": {
      "name": "python3",
      "display_name": "Python 3"
    }
  },
  "cells": [
    {
      "cell_type": "markdown",
      "metadata": {
        "id": "view-in-github",
        "colab_type": "text"
      },
      "source": [
        "<a href=\"https://colab.research.google.com/github/vieirafrancisco/machine-learning-ufal/blob/master/redes_neurais_artificiais.ipynb\" target=\"_parent\"><img src=\"https://colab.research.google.com/assets/colab-badge.svg\" alt=\"Open In Colab\"/></a>"
      ]
    },
    {
      "cell_type": "markdown",
      "metadata": {
        "id": "RYrjzReK-xX4",
        "colab_type": "text"
      },
      "source": [
        "# Colab Setup"
      ]
    },
    {
      "cell_type": "code",
      "metadata": {
        "id": "WwoeuTax-3li",
        "colab_type": "code",
        "colab": {
          "base_uri": "https://localhost:8080/",
          "height": 35
        },
        "outputId": "64b231fc-3e89-42f0-8f07-522027e89d50"
      },
      "source": [
        "import os\n",
        "from google.colab import drive\n",
        "drive.mount('/drive')\n",
        "os.chdir('/drive/My Drive/UFAL/machine-learning-ufal/video-game-sales')"
      ],
      "execution_count": 1,
      "outputs": [
        {
          "output_type": "stream",
          "text": [
            "Mounted at /drive\n"
          ],
          "name": "stdout"
        }
      ]
    },
    {
      "cell_type": "markdown",
      "metadata": {
        "id": "f0GSgsHM-1vk",
        "colab_type": "text"
      },
      "source": [
        "# Imports"
      ]
    },
    {
      "cell_type": "code",
      "metadata": {
        "id": "1aa0hJsZZ243",
        "colab_type": "code",
        "colab": {
          "base_uri": "https://localhost:8080/",
          "height": 74
        },
        "outputId": "b9d6b90f-7bab-4dbe-a3f7-2830674b8fb3"
      },
      "source": [
        "import pandas as pd\n",
        "import numpy as np\n",
        "import matplotlib.pyplot as plt\n",
        "import seaborn as sns"
      ],
      "execution_count": 2,
      "outputs": [
        {
          "output_type": "stream",
          "text": [
            "/usr/local/lib/python3.6/dist-packages/statsmodels/tools/_testing.py:19: FutureWarning: pandas.util.testing is deprecated. Use the functions in the public API at pandas.testing instead.\n",
            "  import pandas.util.testing as tm\n"
          ],
          "name": "stderr"
        }
      ]
    },
    {
      "cell_type": "markdown",
      "metadata": {
        "id": "pIIO3cOX_OeA",
        "colab_type": "text"
      },
      "source": [
        "# Load data"
      ]
    },
    {
      "cell_type": "code",
      "metadata": {
        "id": "LNru_Dbh_NAO",
        "colab_type": "code",
        "colab": {
          "base_uri": "https://localhost:8080/",
          "height": 74
        },
        "outputId": "c8072b77-c359-4c38-e4d0-8edab0fcf617"
      },
      "source": [
        "# dataset já pre-processado\n",
        "df = pd.read_csv('data/fraud_dataset_pre_processed.csv', index_col=[0])"
      ],
      "execution_count": 11,
      "outputs": [
        {
          "output_type": "stream",
          "text": [
            "/usr/local/lib/python3.6/dist-packages/numpy/lib/arraysetops.py:569: FutureWarning: elementwise comparison failed; returning scalar instead, but in the future will perform elementwise comparison\n",
            "  mask |= (ar1 == a)\n"
          ],
          "name": "stderr"
        }
      ]
    },
    {
      "cell_type": "code",
      "metadata": {
        "id": "JeOE_Cj4_f0B",
        "colab_type": "code",
        "colab": {
          "base_uri": "https://localhost:8080/",
          "height": 206
        },
        "outputId": "8c675890-2f0f-440e-d5fd-3cff91576c47"
      },
      "source": [
        "df.head()"
      ],
      "execution_count": 13,
      "outputs": [
        {
          "output_type": "execute_result",
          "data": {
            "text/html": [
              "<div>\n",
              "<style scoped>\n",
              "    .dataframe tbody tr th:only-of-type {\n",
              "        vertical-align: middle;\n",
              "    }\n",
              "\n",
              "    .dataframe tbody tr th {\n",
              "        vertical-align: top;\n",
              "    }\n",
              "\n",
              "    .dataframe thead th {\n",
              "        text-align: right;\n",
              "    }\n",
              "</style>\n",
              "<table border=\"1\" class=\"dataframe\">\n",
              "  <thead>\n",
              "    <tr style=\"text-align: right;\">\n",
              "      <th></th>\n",
              "      <th>type</th>\n",
              "      <th>amount</th>\n",
              "      <th>oldbalanceOrg</th>\n",
              "      <th>newbalanceOrig</th>\n",
              "      <th>nameDest</th>\n",
              "      <th>oldbalanceDest</th>\n",
              "      <th>newbalanceDest</th>\n",
              "      <th>isFraud</th>\n",
              "    </tr>\n",
              "  </thead>\n",
              "  <tbody>\n",
              "    <tr>\n",
              "      <th>0</th>\n",
              "      <td>0.00</td>\n",
              "      <td>0.000106</td>\n",
              "      <td>0.002855</td>\n",
              "      <td>0.003233</td>\n",
              "      <td>0.0</td>\n",
              "      <td>0.000000</td>\n",
              "      <td>0.0</td>\n",
              "      <td>0.0</td>\n",
              "    </tr>\n",
              "    <tr>\n",
              "      <th>1</th>\n",
              "      <td>0.00</td>\n",
              "      <td>0.000020</td>\n",
              "      <td>0.000357</td>\n",
              "      <td>0.000391</td>\n",
              "      <td>0.0</td>\n",
              "      <td>0.000000</td>\n",
              "      <td>0.0</td>\n",
              "      <td>0.0</td>\n",
              "    </tr>\n",
              "    <tr>\n",
              "      <th>2</th>\n",
              "      <td>0.25</td>\n",
              "      <td>0.000002</td>\n",
              "      <td>0.000003</td>\n",
              "      <td>0.000000</td>\n",
              "      <td>1.0</td>\n",
              "      <td>0.000000</td>\n",
              "      <td>0.0</td>\n",
              "      <td>1.0</td>\n",
              "    </tr>\n",
              "    <tr>\n",
              "      <th>3</th>\n",
              "      <td>0.50</td>\n",
              "      <td>0.000002</td>\n",
              "      <td>0.000003</td>\n",
              "      <td>0.000000</td>\n",
              "      <td>1.0</td>\n",
              "      <td>0.000059</td>\n",
              "      <td>0.0</td>\n",
              "      <td>1.0</td>\n",
              "    </tr>\n",
              "    <tr>\n",
              "      <th>4</th>\n",
              "      <td>0.00</td>\n",
              "      <td>0.000126</td>\n",
              "      <td>0.000697</td>\n",
              "      <td>0.000603</td>\n",
              "      <td>0.0</td>\n",
              "      <td>0.000000</td>\n",
              "      <td>0.0</td>\n",
              "      <td>0.0</td>\n",
              "    </tr>\n",
              "  </tbody>\n",
              "</table>\n",
              "</div>"
            ],
            "text/plain": [
              "   type    amount  oldbalanceOrg  ...  oldbalanceDest  newbalanceDest  isFraud\n",
              "0  0.00  0.000106       0.002855  ...        0.000000             0.0      0.0\n",
              "1  0.00  0.000020       0.000357  ...        0.000000             0.0      0.0\n",
              "2  0.25  0.000002       0.000003  ...        0.000000             0.0      1.0\n",
              "3  0.50  0.000002       0.000003  ...        0.000059             0.0      1.0\n",
              "4  0.00  0.000126       0.000697  ...        0.000000             0.0      0.0\n",
              "\n",
              "[5 rows x 8 columns]"
            ]
          },
          "metadata": {
            "tags": []
          },
          "execution_count": 13
        }
      ]
    },
    {
      "cell_type": "code",
      "metadata": {
        "id": "9NhOPIH_AGoW",
        "colab_type": "code",
        "colab": {
          "base_uri": "https://localhost:8080/",
          "height": 72
        },
        "outputId": "5fea330a-bb31-4c3e-de4b-f8b7d966cd63"
      },
      "source": [
        "print(f\"Número total de tuplas: {len(df)}\")\n",
        "print(f\"Número de tuplas com label isFraud == 1: {len(df[df['isFraud']==1])}\")\n",
        "print(f\"Número de tuplas com label isFraud == 0: {len(df[df['isFraud']==0])}\")"
      ],
      "execution_count": 15,
      "outputs": [
        {
          "output_type": "stream",
          "text": [
            "Número total de tuplas: 6362620\n",
            "Número de tuplas com label isFraud == 1: 8213\n",
            "Número de tuplas com label isFraud == 0: 6354407\n"
          ],
          "name": "stdout"
        }
      ]
    },
    {
      "cell_type": "markdown",
      "metadata": {
        "id": "x45Q28nSAfB0",
        "colab_type": "text"
      },
      "source": [
        "# Análise preliminar e balanceamento"
      ]
    },
    {
      "cell_type": "code",
      "metadata": {
        "id": "CfXWu13pALSe",
        "colab_type": "code",
        "colab": {
          "base_uri": "https://localhost:8080/",
          "height": 300
        },
        "outputId": "22078864-d2e4-432a-d3e0-50d1ac566014"
      },
      "source": [
        "# verificar correlação entre os atributos antes de balancear\n",
        "# com o objetivo de entender se tem algum atributo que influência bastante para a previsão da label\n",
        "df.corr()"
      ],
      "execution_count": 16,
      "outputs": [
        {
          "output_type": "execute_result",
          "data": {
            "text/html": [
              "<div>\n",
              "<style scoped>\n",
              "    .dataframe tbody tr th:only-of-type {\n",
              "        vertical-align: middle;\n",
              "    }\n",
              "\n",
              "    .dataframe tbody tr th {\n",
              "        vertical-align: top;\n",
              "    }\n",
              "\n",
              "    .dataframe thead th {\n",
              "        text-align: right;\n",
              "    }\n",
              "</style>\n",
              "<table border=\"1\" class=\"dataframe\">\n",
              "  <thead>\n",
              "    <tr style=\"text-align: right;\">\n",
              "      <th></th>\n",
              "      <th>type</th>\n",
              "      <th>amount</th>\n",
              "      <th>oldbalanceOrg</th>\n",
              "      <th>newbalanceOrig</th>\n",
              "      <th>nameDest</th>\n",
              "      <th>oldbalanceDest</th>\n",
              "      <th>newbalanceDest</th>\n",
              "      <th>isFraud</th>\n",
              "    </tr>\n",
              "  </thead>\n",
              "  <tbody>\n",
              "    <tr>\n",
              "      <th>type</th>\n",
              "      <td>1.000000</td>\n",
              "      <td>0.050693</td>\n",
              "      <td>0.415700</td>\n",
              "      <td>0.431006</td>\n",
              "      <td>0.808215</td>\n",
              "      <td>0.165383</td>\n",
              "      <td>0.135362</td>\n",
              "      <td>-0.004463</td>\n",
              "    </tr>\n",
              "    <tr>\n",
              "      <th>amount</th>\n",
              "      <td>0.050693</td>\n",
              "      <td>1.000000</td>\n",
              "      <td>-0.002762</td>\n",
              "      <td>-0.007861</td>\n",
              "      <td>0.197444</td>\n",
              "      <td>0.294137</td>\n",
              "      <td>0.459304</td>\n",
              "      <td>0.076688</td>\n",
              "    </tr>\n",
              "    <tr>\n",
              "      <th>oldbalanceOrg</th>\n",
              "      <td>0.415700</td>\n",
              "      <td>-0.002762</td>\n",
              "      <td>1.000000</td>\n",
              "      <td>0.998803</td>\n",
              "      <td>0.189486</td>\n",
              "      <td>0.066243</td>\n",
              "      <td>0.042029</td>\n",
              "      <td>0.010154</td>\n",
              "    </tr>\n",
              "    <tr>\n",
              "      <th>newbalanceOrig</th>\n",
              "      <td>0.431006</td>\n",
              "      <td>-0.007861</td>\n",
              "      <td>0.998803</td>\n",
              "      <td>1.000000</td>\n",
              "      <td>0.193915</td>\n",
              "      <td>0.067812</td>\n",
              "      <td>0.041837</td>\n",
              "      <td>-0.008148</td>\n",
              "    </tr>\n",
              "    <tr>\n",
              "      <th>nameDest</th>\n",
              "      <td>0.808215</td>\n",
              "      <td>0.197444</td>\n",
              "      <td>0.189486</td>\n",
              "      <td>0.193915</td>\n",
              "      <td>1.000000</td>\n",
              "      <td>0.231455</td>\n",
              "      <td>0.238315</td>\n",
              "      <td>0.025697</td>\n",
              "    </tr>\n",
              "    <tr>\n",
              "      <th>oldbalanceDest</th>\n",
              "      <td>0.165383</td>\n",
              "      <td>0.294137</td>\n",
              "      <td>0.066243</td>\n",
              "      <td>0.067812</td>\n",
              "      <td>0.231455</td>\n",
              "      <td>1.000000</td>\n",
              "      <td>0.976569</td>\n",
              "      <td>-0.005885</td>\n",
              "    </tr>\n",
              "    <tr>\n",
              "      <th>newbalanceDest</th>\n",
              "      <td>0.135362</td>\n",
              "      <td>0.459304</td>\n",
              "      <td>0.042029</td>\n",
              "      <td>0.041837</td>\n",
              "      <td>0.238315</td>\n",
              "      <td>0.976569</td>\n",
              "      <td>1.000000</td>\n",
              "      <td>0.000535</td>\n",
              "    </tr>\n",
              "    <tr>\n",
              "      <th>isFraud</th>\n",
              "      <td>-0.004463</td>\n",
              "      <td>0.076688</td>\n",
              "      <td>0.010154</td>\n",
              "      <td>-0.008148</td>\n",
              "      <td>0.025697</td>\n",
              "      <td>-0.005885</td>\n",
              "      <td>0.000535</td>\n",
              "      <td>1.000000</td>\n",
              "    </tr>\n",
              "  </tbody>\n",
              "</table>\n",
              "</div>"
            ],
            "text/plain": [
              "                    type    amount  ...  newbalanceDest   isFraud\n",
              "type            1.000000  0.050693  ...        0.135362 -0.004463\n",
              "amount          0.050693  1.000000  ...        0.459304  0.076688\n",
              "oldbalanceOrg   0.415700 -0.002762  ...        0.042029  0.010154\n",
              "newbalanceOrig  0.431006 -0.007861  ...        0.041837 -0.008148\n",
              "nameDest        0.808215  0.197444  ...        0.238315  0.025697\n",
              "oldbalanceDest  0.165383  0.294137  ...        0.976569 -0.005885\n",
              "newbalanceDest  0.135362  0.459304  ...        1.000000  0.000535\n",
              "isFraud        -0.004463  0.076688  ...        0.000535  1.000000\n",
              "\n",
              "[8 rows x 8 columns]"
            ]
          },
          "metadata": {
            "tags": []
          },
          "execution_count": 16
        }
      ]
    },
    {
      "cell_type": "code",
      "metadata": {
        "id": "1mkvQC7bBATb",
        "colab_type": "code",
        "colab": {}
      },
      "source": [
        "# curiosamente todos os atributos tem uma correlação proxima de 0 com relação a label\n",
        "# por outro lado, alguns atributos entre si tem uma correlação muito alta, ex: new balanceOrig com oldbalanceOrg que de certa forma faz sentido\n",
        "# melhorar a visualização dessa correlação e tentar remover alguns atributos, que tenham alta correlação entre si, para ver se interfere no resultado final"
      ],
      "execution_count": 17,
      "outputs": []
    },
    {
      "cell_type": "code",
      "metadata": {
        "id": "ULY_VTNABmYT",
        "colab_type": "code",
        "colab": {
          "base_uri": "https://localhost:8080/",
          "height": 523
        },
        "outputId": "1883323c-f452-4fc8-cd3c-fe2b257bd392"
      },
      "source": [
        "fig, ax = plt.subplots(1,1, figsize=(10,7))\n",
        "sns.heatmap(df.corr(),annot=True, ax=ax)"
      ],
      "execution_count": 23,
      "outputs": [
        {
          "output_type": "execute_result",
          "data": {
            "text/plain": [
              "<matplotlib.axes._subplots.AxesSubplot at 0x7faff811b5c0>"
            ]
          },
          "metadata": {
            "tags": []
          },
          "execution_count": 23
        },
        {
          "output_type": "display_data",
          "data": {
            "image/png": "[encoded data removed]",
            "text/plain": [
              "<Figure size 720x504 with 2 Axes>"
            ]
          },
          "metadata": {
            "tags": [],
            "needs_background": "light"
          }
        }
      ]
    },
    {
      "cell_type": "markdown",
      "metadata": {
        "id": "rxRPG1FjDR-G",
        "colab_type": "text"
      },
      "source": [
        "## Balanceamento"
      ]
    },
    {
      "cell_type": "code",
      "metadata": {
        "id": "h-ZITp93DRHn",
        "colab_type": "code",
        "colab": {}
      },
      "source": [
        "df_balac = df[df['isFraud']==1]\n",
        "# shuffle\n",
        "shuffled = df[df['isFraud']==0].sample(frac=1)[:len(df_balac)]\n",
        "# append\n",
        "df_balac = df_balac.append(shuffled, ignore_index=True)"
      ],
      "execution_count": 33,
      "outputs": []
    },
    {
      "cell_type": "code",
      "metadata": {
        "id": "NiHK1wyaEKA9",
        "colab_type": "code",
        "colab": {
          "base_uri": "https://localhost:8080/",
          "height": 72
        },
        "outputId": "ca023250-89d7-4fb0-cfed-94ba526754b0"
      },
      "source": [
        "print(f\"Número total de tuplas: {len(df_balac)}\")\n",
        "print(f\"Número de tuplas com label isFraud == 1: {len(df_balac[df_balac['isFraud']==1])}\")\n",
        "print(f\"Número de tuplas com label isFraud == 0: {len(df_balac[df_balac['isFraud']==0])}\")"
      ],
      "execution_count": 35,
      "outputs": [
        {
          "output_type": "stream",
          "text": [
            "Número total de tuplas: 16426\n",
            "Número de tuplas com label isFraud == 1: 8213\n",
            "Número de tuplas com label isFraud == 0: 8213\n"
          ],
          "name": "stdout"
        }
      ]
    },
    {
      "cell_type": "code",
      "metadata": {
        "id": "fk3xmR_9EeAU",
        "colab_type": "code",
        "colab": {
          "base_uri": "https://localhost:8080/",
          "height": 523
        },
        "outputId": "262c80dc-1464-456f-90a3-e371fec602ba"
      },
      "source": [
        "# verificar correlação com dataset balanceado\n",
        "fig, ax = plt.subplots(1,1, figsize=(10,7))\n",
        "sns.heatmap(df_balac.corr(),annot=True, ax=ax)"
      ],
      "execution_count": 37,
      "outputs": [
        {
          "output_type": "execute_result",
          "data": {
            "text/plain": [
              "<matplotlib.axes._subplots.AxesSubplot at 0x7faff7f6e0f0>"
            ]
          },
          "metadata": {
            "tags": []
          },
          "execution_count": 37
        },
        {
          "output_type": "display_data",
          "data": {
            "image/png": "[encoded data removed]",
            "text/plain": [
              "<Figure size 720x504 with 2 Axes>"
            ]
          },
          "metadata": {
            "tags": [],
            "needs_background": "light"
          }
        }
      ]
    },
    {
      "cell_type": "code",
      "metadata": {
        "id": "DFCg8NbVE3s-",
        "colab_type": "code",
        "colab": {}
      },
      "source": [
        "# Com o balanceamento a correlação entre alguns atributos diminuiu levemente.\n",
        "# Vou fazer a classificação com todos os atributos e depois vou fazer a classificação\n",
        "# retirando alguns atributos que podem ser 'redundantes' no dataset"
      ],
      "execution_count": null,
      "outputs": []
    },
    {
      "cell_type": "markdown",
      "metadata": {
        "id": "B0YeJEOlFSFf",
        "colab_type": "text"
      },
      "source": [
        "# Classificação com MLP"
      ]
    },
    {
      "cell_type": "code",
      "metadata": {
        "id": "4qnr2KNNFTfX",
        "colab_type": "code",
        "colab": {}
      },
      "source": [
        "# imports\n",
        "from sklearn.neural_network import MLPClassifier\n",
        "from sklearn.metrics import accuracy_score, precision_score, recall_score\n",
        "from sklearn.model_selection import train_test_split, KFold"
      ],
      "execution_count": 38,
      "outputs": []
    },
    {
      "cell_type": "code",
      "metadata": {
        "id": "oMynHihEF8-J",
        "colab_type": "code",
        "colab": {}
      },
      "source": [
        "# função de classificação\n",
        "# retorna a accuracy, precision, recall\n",
        "def classify(clf, X, y, cv=None):\n",
        "    if cv is not None:\n",
        "        method = f'{cv}-fold cross-validation'\n",
        "        accuracy, precision, recall = cross_validation(clf, X, y, cv)\n",
        "    else:\n",
        "        method = f'holdout'\n",
        "        X_train, X_test, y_train, y_test = train_test_split(X, y, test_size=0.2)\n",
        "        accuracy, precision, recall = hold_out(clf, X_train, X_test, y_train, y_test)\n",
        "    return {\"accuracy\": accuracy, \"precision\": precision, \"recall\": recall, \"method\": method}\n",
        "    \n",
        "\n",
        "def hold_out(clf, X_train, X_test, y_train, y_test):\n",
        "    # classificar\n",
        "    clf.fit(X_train, y_train)\n",
        "    # predição\n",
        "    y_predict = clf.predict(X_test)\n",
        "\n",
        "    # métricas\n",
        "    acuracia = accuracy_score(y_test, y_predict)\n",
        "    precision = precision_score(y_test, y_predict)\n",
        "    recall = recall_score(y_test, y_predict)\n",
        "    return (acuracia, precision, recall)\n",
        "\n",
        "def cross_validation(clf, X, y, cv):\n",
        "    kf = KFold(n_splits=cv, shuffle=True, random_state=42)\n",
        "    metrics = {\"accuracy\": [], \"precision\": [], \"recall\": []}\n",
        "    for train_index, test_index in kf.split(X):\n",
        "        X_train, X_test = X.iloc[train_index], X.iloc[test_index]\n",
        "        y_train, y_test = y.iloc[train_index], y.iloc[test_index]\n",
        "        accuracy, precision, recall = hold_out(clf, X_train, X_test, y_train, y_test)\n",
        "        metrics[\"accuracy\"].append(accuracy)\n",
        "        metrics[\"precision\"].append(precision)\n",
        "        metrics[\"recall\"].append(recall)\n",
        "    return (np.mean(metrics[\"accuracy\"]), np.mean(metrics[\"precision\"]), np.mean(metrics[\"recall\"]))"
      ],
      "execution_count": 43,
      "outputs": []
    },
    {
      "cell_type": "code",
      "metadata": {
        "id": "YBUWGKtzGR7L",
        "colab_type": "code",
        "colab": {}
      },
      "source": [
        "y = df_balac['isFraud']\n",
        "X = df_balac.drop('isFraud', axis=1)"
      ],
      "execution_count": 40,
      "outputs": []
    },
    {
      "cell_type": "code",
      "metadata": {
        "id": "fSkcA-XMGd9d",
        "colab_type": "code",
        "colab": {
          "base_uri": "https://localhost:8080/",
          "height": 112
        },
        "outputId": "b2a8e35d-de24-43b3-8381-7aa383c1f815"
      },
      "source": [
        "X.head(2)"
      ],
      "execution_count": 41,
      "outputs": [
        {
          "output_type": "execute_result",
          "data": {
            "text/html": [
              "<div>\n",
              "<style scoped>\n",
              "    .dataframe tbody tr th:only-of-type {\n",
              "        vertical-align: middle;\n",
              "    }\n",
              "\n",
              "    .dataframe tbody tr th {\n",
              "        vertical-align: top;\n",
              "    }\n",
              "\n",
              "    .dataframe thead th {\n",
              "        text-align: right;\n",
              "    }\n",
              "</style>\n",
              "<table border=\"1\" class=\"dataframe\">\n",
              "  <thead>\n",
              "    <tr style=\"text-align: right;\">\n",
              "      <th></th>\n",
              "      <th>type</th>\n",
              "      <th>amount</th>\n",
              "      <th>oldbalanceOrg</th>\n",
              "      <th>newbalanceOrig</th>\n",
              "      <th>nameDest</th>\n",
              "      <th>oldbalanceDest</th>\n",
              "      <th>newbalanceDest</th>\n",
              "    </tr>\n",
              "  </thead>\n",
              "  <tbody>\n",
              "    <tr>\n",
              "      <th>0</th>\n",
              "      <td>0.25</td>\n",
              "      <td>0.000002</td>\n",
              "      <td>0.000003</td>\n",
              "      <td>0.0</td>\n",
              "      <td>1.0</td>\n",
              "      <td>0.000000</td>\n",
              "      <td>0.0</td>\n",
              "    </tr>\n",
              "    <tr>\n",
              "      <th>1</th>\n",
              "      <td>0.50</td>\n",
              "      <td>0.000002</td>\n",
              "      <td>0.000003</td>\n",
              "      <td>0.0</td>\n",
              "      <td>1.0</td>\n",
              "      <td>0.000059</td>\n",
              "      <td>0.0</td>\n",
              "    </tr>\n",
              "  </tbody>\n",
              "</table>\n",
              "</div>"
            ],
            "text/plain": [
              "   type    amount  oldbalanceOrg  ...  nameDest  oldbalanceDest  newbalanceDest\n",
              "0  0.25  0.000002       0.000003  ...       1.0        0.000000             0.0\n",
              "1  0.50  0.000002       0.000003  ...       1.0        0.000059             0.0\n",
              "\n",
              "[2 rows x 7 columns]"
            ]
          },
          "metadata": {
            "tags": []
          },
          "execution_count": 41
        }
      ]
    },
    {
      "cell_type": "code",
      "metadata": {
        "id": "PCKqWkW2GA2i",
        "colab_type": "code",
        "colab": {
          "base_uri": "https://localhost:8080/",
          "height": 74
        },
        "outputId": "f072ba59-9dea-4670-cb5e-455a8bc0c14b"
      },
      "source": [
        "# Holdout\n",
        "result_df = pd.DataFrame(classify(MLPClassifier(), X, y), index=[0])"
      ],
      "execution_count": 54,
      "outputs": [
        {
          "output_type": "stream",
          "text": [
            "/usr/local/lib/python3.6/dist-packages/sklearn/neural_network/_multilayer_perceptron.py:571: ConvergenceWarning: Stochastic Optimizer: Maximum iterations (200) reached and the optimization hasn't converged yet.\n",
            "  % self.max_iter, ConvergenceWarning)\n"
          ],
          "name": "stderr"
        }
      ]
    },
    {
      "cell_type": "code",
      "metadata": {
        "id": "De7mKjGUJvE2",
        "colab_type": "code",
        "colab": {
          "base_uri": "https://localhost:8080/",
          "height": 404
        },
        "outputId": "018b2a28-30a8-417f-c0fe-269ca2081857"
      },
      "source": [
        "# Cross-validation 10 folds\n",
        "k_fold = pd.DataFrame(classify(MLPClassifier(), X, y, cv=10), index=[1])"
      ],
      "execution_count": 57,
      "outputs": [
        {
          "output_type": "stream",
          "text": [
            "/usr/local/lib/python3.6/dist-packages/sklearn/neural_network/_multilayer_perceptron.py:571: ConvergenceWarning: Stochastic Optimizer: Maximum iterations (200) reached and the optimization hasn't converged yet.\n",
            "  % self.max_iter, ConvergenceWarning)\n",
            "/usr/local/lib/python3.6/dist-packages/sklearn/neural_network/_multilayer_perceptron.py:571: ConvergenceWarning: Stochastic Optimizer: Maximum iterations (200) reached and the optimization hasn't converged yet.\n",
            "  % self.max_iter, ConvergenceWarning)\n",
            "/usr/local/lib/python3.6/dist-packages/sklearn/neural_network/_multilayer_perceptron.py:571: ConvergenceWarning: Stochastic Optimizer: Maximum iterations (200) reached and the optimization hasn't converged yet.\n",
            "  % self.max_iter, ConvergenceWarning)\n",
            "/usr/local/lib/python3.6/dist-packages/sklearn/neural_network/_multilayer_perceptron.py:571: ConvergenceWarning: Stochastic Optimizer: Maximum iterations (200) reached and the optimization hasn't converged yet.\n",
            "  % self.max_iter, ConvergenceWarning)\n",
            "/usr/local/lib/python3.6/dist-packages/sklearn/neural_network/_multilayer_perceptron.py:571: ConvergenceWarning: Stochastic Optimizer: Maximum iterations (200) reached and the optimization hasn't converged yet.\n",
            "  % self.max_iter, ConvergenceWarning)\n",
            "/usr/local/lib/python3.6/dist-packages/sklearn/neural_network/_multilayer_perceptron.py:571: ConvergenceWarning: Stochastic Optimizer: Maximum iterations (200) reached and the optimization hasn't converged yet.\n",
            "  % self.max_iter, ConvergenceWarning)\n",
            "/usr/local/lib/python3.6/dist-packages/sklearn/neural_network/_multilayer_perceptron.py:571: ConvergenceWarning: Stochastic Optimizer: Maximum iterations (200) reached and the optimization hasn't converged yet.\n",
            "  % self.max_iter, ConvergenceWarning)\n",
            "/usr/local/lib/python3.6/dist-packages/sklearn/neural_network/_multilayer_perceptron.py:571: ConvergenceWarning: Stochastic Optimizer: Maximum iterations (200) reached and the optimization hasn't converged yet.\n",
            "  % self.max_iter, ConvergenceWarning)\n",
            "/usr/local/lib/python3.6/dist-packages/sklearn/neural_network/_multilayer_perceptron.py:571: ConvergenceWarning: Stochastic Optimizer: Maximum iterations (200) reached and the optimization hasn't converged yet.\n",
            "  % self.max_iter, ConvergenceWarning)\n",
            "/usr/local/lib/python3.6/dist-packages/sklearn/neural_network/_multilayer_perceptron.py:571: ConvergenceWarning: Stochastic Optimizer: Maximum iterations (200) reached and the optimization hasn't converged yet.\n",
            "  % self.max_iter, ConvergenceWarning)\n"
          ],
          "name": "stderr"
        }
      ]
    },
    {
      "cell_type": "code",
      "metadata": {
        "id": "3HkBg-ZBGjbg",
        "colab_type": "code",
        "colab": {}
      },
      "source": [
        "result_df = result_df.append(k_fold, ignore_index=True)"
      ],
      "execution_count": 58,
      "outputs": []
    },
    {
      "cell_type": "code",
      "metadata": {
        "id": "A2Z0P9h1HPBQ",
        "colab_type": "code",
        "colab": {
          "base_uri": "https://localhost:8080/",
          "height": 112
        },
        "outputId": "62ee2c29-f13b-4112-bd39-522aec7c523e"
      },
      "source": [
        "result_df"
      ],
      "execution_count": 59,
      "outputs": [
        {
          "output_type": "execute_result",
          "data": {
            "text/html": [
              "<div>\n",
              "<style scoped>\n",
              "    .dataframe tbody tr th:only-of-type {\n",
              "        vertical-align: middle;\n",
              "    }\n",
              "\n",
              "    .dataframe tbody tr th {\n",
              "        vertical-align: top;\n",
              "    }\n",
              "\n",
              "    .dataframe thead th {\n",
              "        text-align: right;\n",
              "    }\n",
              "</style>\n",
              "<table border=\"1\" class=\"dataframe\">\n",
              "  <thead>\n",
              "    <tr style=\"text-align: right;\">\n",
              "      <th></th>\n",
              "      <th>accuracy</th>\n",
              "      <th>precision</th>\n",
              "      <th>recall</th>\n",
              "      <th>method</th>\n",
              "    </tr>\n",
              "  </thead>\n",
              "  <tbody>\n",
              "    <tr>\n",
              "      <th>0</th>\n",
              "      <td>0.936093</td>\n",
              "      <td>0.943337</td>\n",
              "      <td>0.927173</td>\n",
              "      <td>holdout</td>\n",
              "    </tr>\n",
              "    <tr>\n",
              "      <th>1</th>\n",
              "      <td>0.944538</td>\n",
              "      <td>0.952880</td>\n",
              "      <td>0.935179</td>\n",
              "      <td>10-fold cross-validation</td>\n",
              "    </tr>\n",
              "  </tbody>\n",
              "</table>\n",
              "</div>"
            ],
            "text/plain": [
              "   accuracy  precision    recall                    method\n",
              "0  0.936093   0.943337  0.927173                   holdout\n",
              "1  0.944538   0.952880  0.935179  10-fold cross-validation"
            ]
          },
          "metadata": {
            "tags": []
          },
          "execution_count": 59
        }
      ]
    },
    {
      "cell_type": "code",
      "metadata": {
        "id": "q0xrAPxKJMk9",
        "colab_type": "code",
        "colab": {}
      },
      "source": [
        "# remover alguns atributos que tem alta com relação com outro atributo para verificar o resultado de classificação\n",
        "df_balac_withoud_old_balance = df_balac.drop(['oldbalanceDest', 'oldbalanceOrg'], axis=1)\n",
        "holdout = classify(MLPClassifier(), X, y)\n",
        "cv_10_fold = classify(MLPClassifier(), X, y, cv=10)"
      ],
      "execution_count": null,
      "outputs": []
    },
    {
      "cell_type": "code",
      "metadata": {
        "id": "wOw_g_iZLhom",
        "colab_type": "code",
        "colab": {}
      },
      "source": [
        "result_df = pd.DataFrame(holdout, index=[0])\n",
        "cv_10_fold_df = pd.DataFrame(cv_10_fold, index=[1])\n",
        "result_df = result_df.append(cv_10_fold_df, ignore_index=True)"
      ],
      "execution_count": 64,
      "outputs": []
    },
    {
      "cell_type": "code",
      "metadata": {
        "id": "uzA3ByzbKxYk",
        "colab_type": "code",
        "colab": {
          "base_uri": "https://localhost:8080/",
          "height": 112
        },
        "outputId": "65529d28-de17-4fe0-b8f1-d4437d562ff2"
      },
      "source": [
        "result_df"
      ],
      "execution_count": 65,
      "outputs": [
        {
          "output_type": "execute_result",
          "data": {
            "text/html": [
              "<div>\n",
              "<style scoped>\n",
              "    .dataframe tbody tr th:only-of-type {\n",
              "        vertical-align: middle;\n",
              "    }\n",
              "\n",
              "    .dataframe tbody tr th {\n",
              "        vertical-align: top;\n",
              "    }\n",
              "\n",
              "    .dataframe thead th {\n",
              "        text-align: right;\n",
              "    }\n",
              "</style>\n",
              "<table border=\"1\" class=\"dataframe\">\n",
              "  <thead>\n",
              "    <tr style=\"text-align: right;\">\n",
              "      <th></th>\n",
              "      <th>accuracy</th>\n",
              "      <th>precision</th>\n",
              "      <th>recall</th>\n",
              "      <th>method</th>\n",
              "    </tr>\n",
              "  </thead>\n",
              "  <tbody>\n",
              "    <tr>\n",
              "      <th>0</th>\n",
              "      <td>0.952222</td>\n",
              "      <td>0.954299</td>\n",
              "      <td>0.951439</td>\n",
              "      <td>holdout</td>\n",
              "    </tr>\n",
              "    <tr>\n",
              "      <th>1</th>\n",
              "      <td>0.947096</td>\n",
              "      <td>0.947437</td>\n",
              "      <td>0.946658</td>\n",
              "      <td>10-fold cross-validation</td>\n",
              "    </tr>\n",
              "  </tbody>\n",
              "</table>\n",
              "</div>"
            ],
            "text/plain": [
              "   accuracy  precision    recall                    method\n",
              "0  0.952222   0.954299  0.951439                   holdout\n",
              "1  0.947096   0.947437  0.946658  10-fold cross-validation"
            ]
          },
          "metadata": {
            "tags": []
          },
          "execution_count": 65
        }
      ]
    },
    {
      "cell_type": "markdown",
      "metadata": {
        "id": "tmJubO1jL2dd",
        "colab_type": "text"
      },
      "source": [
        "# Conclusão\n",
        "Em geral os resultados utilizando o classificador da MLP (com os parâmetros padrão) teve um resultado bom, porém inferior tanto das Árvores de Decisão como também das Random Forest. Removendo dois atributos 'oldbalanceDest' e 'oldbalanceOrg' as métricas tem uma leve melhoria no método holdout nas três metricas utilizadas: accuracy, precision e recall"
      ]
    },
    {
      "cell_type": "code",
      "metadata": {
        "id": "xpwiYlwaMey-",
        "colab_type": "code",
        "colab": {}
      },
      "source": [
        "# salvar dataset balanceado\n",
        "df_balac.to_csv('data/fraud_dataset_ready_to_use.csv')"
      ],
      "execution_count": 67,
      "outputs": []
    }
  ]
}