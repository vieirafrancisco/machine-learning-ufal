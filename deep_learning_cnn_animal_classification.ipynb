{
  "nbformat": 4,
  "nbformat_minor": 0,
  "metadata": {
    "colab": {
      "name": "deep-learning-cnn-animal-classification.ipynb",
      "provenance": [],
      "collapsed_sections": [],
      "authorship_tag": "ABX9TyN3AAM5Ul3R0d7lk7HSlrkh",
      "include_colab_link": true
    },
    "kernelspec": {
      "name": "python3",
      "display_name": "Python 3"
    }
  },
  "cells": [
    {
      "cell_type": "markdown",
      "metadata": {
        "id": "view-in-github",
        "colab_type": "text"
      },
      "source": [
        "<a href=\"https://colab.research.google.com/github/vieirafrancisco/machine-learning-ufal/blob/master/deep_learning_cnn_animal_classification.ipynb\" target=\"_parent\"><img src=\"https://colab.research.google.com/assets/colab-badge.svg\" alt=\"Open In Colab\"/></a>"
      ]
    },
    {
      "cell_type": "markdown",
      "metadata": {
        "id": "6HpN7WW5ALrp"
      },
      "source": [
        "# CNN para classificação de imagens de animais\n",
        "\n",
        "### Descrição do dataset:\n",
        "[link kaggle](https://www.kaggle.com/alessiocorrado99/animals10)\n",
        "\n",
        "Contém 28 mil imagens de qualidade média de animais pentencendo a 10 categorias: cachorro (dog), gato (cat), cavalo (horse), aranha (spider), borboleta (butterfly), galinha (chicken), orvelha (sheep), vaca (cow), esquilo (squirrel), elefante (elephant).  \n",
        "\n",
        "Todas as imagens foram coletadas do \"google images\" e foram veridicadas por humanos."
      ]
    },
    {
      "cell_type": "code",
      "metadata": {
        "id": "c_E0ksrx99ih",
        "outputId": "d26b2054-2f77-40d1-b05c-7dbdbd081266",
        "colab": {
          "base_uri": "https://localhost:8080/",
          "height": 35
        }
      },
      "source": [
        "import os\n",
        "from google.colab import drive\n",
        "\n",
        "drive.mount('drive/')"
      ],
      "execution_count": 2,
      "outputs": [
        {
          "output_type": "stream",
          "text": [
            "Mounted at drive/\n"
          ],
          "name": "stdout"
        }
      ]
    },
    {
      "cell_type": "code",
      "metadata": {
        "id": "o9uLWbANkCNN"
      },
      "source": [
        "os.chdir('drive/My Drive/UFAL/machine-learning-ufal/video-game-sales')"
      ],
      "execution_count": 3,
      "outputs": []
    },
    {
      "cell_type": "code",
      "metadata": {
        "id": "91wLGXkm9IA2",
        "outputId": "71c97a3a-b39e-4e1e-8521-f5b48b5c80e6",
        "colab": {
          "base_uri": "https://localhost:8080/",
          "height": 74
        }
      },
      "source": [
        "import pandas as pd\n",
        "import numpy as np\n",
        "import matplotlib.pyplot as plt\n",
        "import seaborn as sns\n",
        "import cv2\n",
        "from google.colab.patches import cv2_imshow\n",
        "\n",
        "from sklearn.metrics import accuracy_score\n",
        "import itertools\n",
        "\n",
        "from keras.utils.np_utils import to_categorical\n",
        "from keras.models import Sequential\n",
        "from keras.layers import Dense, Dropout, Flatten, Conv2D, MaxPool2D\n",
        "from keras.optimizers import RMSprop, SGD"
      ],
      "execution_count": 4,
      "outputs": [
        {
          "output_type": "stream",
          "text": [
            "/usr/local/lib/python3.6/dist-packages/statsmodels/tools/_testing.py:19: FutureWarning: pandas.util.testing is deprecated. Use the functions in the public API at pandas.testing instead.\n",
            "  import pandas.util.testing as tm\n"
          ],
          "name": "stderr"
        }
      ]
    },
    {
      "cell_type": "code",
      "metadata": {
        "id": "49MyuRUW9-NS"
      },
      "source": [
        "TRANSLATE = {\n",
        "    \"cane\": \"dog\", \n",
        "    \"cavallo\": \"horse\", \n",
        "    \"elefante\": \"elephant\", \n",
        "    \"farfalla\": \"butterfly\", \n",
        "    \"gallina\": \"chicken\", \n",
        "    \"gatto\": \"cat\", \n",
        "    \"mucca\": \"cow\", \n",
        "    \"pecora\": \"sheep\", \n",
        "    \"scoiattolo\": \"squirrel\",\n",
        "    \"ragno\": \"spider\"\n",
        "}\n",
        "INVERSE_TRANSLATE = {value: key for key, value in TRANSLATE.items()}\n",
        "\n",
        "DATA_PATH = 'data/raw-img'"
      ],
      "execution_count": 5,
      "outputs": []
    },
    {
      "cell_type": "markdown",
      "metadata": {
        "id": "gEferhIB9Bwi"
      },
      "source": [
        "# Load Dataset"
      ]
    },
    {
      "cell_type": "code",
      "metadata": {
        "id": "5WQ5cBERUvl5"
      },
      "source": [
        "qtd_img = 500"
      ],
      "execution_count": 6,
      "outputs": []
    },
    {
      "cell_type": "code",
      "metadata": {
        "id": "5kF01RJ2Ddl4",
        "outputId": "e9da0e81-6f03-401c-bcb9-92ca659bc084",
        "colab": {
          "base_uri": "https://localhost:8080/",
          "height": 35
        }
      },
      "source": [
        "# Filtrar os animais que tem mais de 500 imagens\n",
        "def f(animal_name):\n",
        "  if len(os.listdir(f'data/raw-img/{animal_name}')) >= qtd_img:\n",
        "    return True\n",
        "  return False\n",
        "animals = os.listdir('data/raw-img')\n",
        "y = {}\n",
        "for idx, animal in enumerate(filter(f, animals)):\n",
        "  y[animal] = idx\n",
        "print(y)"
      ],
      "execution_count": 8,
      "outputs": [
        {
          "output_type": "stream",
          "text": [
            "{'elefante': 0, 'cane': 1, 'cavallo': 2, 'farfalla': 3, 'gallina': 4}\n"
          ],
          "name": "stdout"
        }
      ]
    },
    {
      "cell_type": "code",
      "metadata": {
        "id": "kYAR6WPny9YG"
      },
      "source": [
        "# Ler 500 imagens de cada animal escolhido anteriormente\n",
        "def read_im(animals, qtd_img):\n",
        "  raw_data = {}\n",
        "  for animal_name in animals:\n",
        "    imgs = os.listdir(f'data/raw-img/{animal_name}/')\n",
        "    for idx, img in enumerate(imgs[:qtd_img]):\n",
        "      if (idx+1) % int(qtd_img * 0.2) == 0:\n",
        "        print(TRANSLATE[animal_name], f\"<{int((idx+1) * 100 / qtd_img)}%>\")\n",
        "      if animal_name not in raw_data.keys():\n",
        "        raw_data[animal_name] = []\n",
        "      raw_data[animal_name].append(cv2.imread(f'data/raw-img/{animal_name}/{img}'))\n",
        "  return raw_data\n",
        "#read_im(y.keys(), 500)"
      ],
      "execution_count": 114,
      "outputs": []
    },
    {
      "cell_type": "markdown",
      "metadata": {
        "id": "IaktrRTJNShV"
      },
      "source": [
        "No total ficaram 5 animais: Cachorro (dog), Cavalo (horse), Elefante (elephant), Borboleta (butterfly) e Galinha (chicken).  \n",
        "Dos quais cada um foram utilizadas 500 imagens, totalizando 2500 imagens.  \n",
        "Obs: A quantidade de imagens é reflexo da limitação de internet e processamento (Mesmo considerando a GPU do colab)."
      ]
    },
    {
      "cell_type": "code",
      "metadata": {
        "id": "Fyna_ioTAiAf"
      },
      "source": [
        "# Padronizar a altura e comprimento das imagens para 200x200 pixels.\n",
        "# Por conta de que cada imagem tem sua altura x comprimento original.\n",
        "for animal in y.keys():\n",
        "  en_animal_name = TRANSLATE[animal]\n",
        "  for c, img in enumerate(raw_data[animal]):\n",
        "    simg = cv2.resize(img, (200, 200)) # resize to 200x200 pixels\n",
        "    cv2.imwrite(f'data/animal-pre/{en_animal_name}_{c}.jpg', simg)"
      ],
      "execution_count": 9,
      "outputs": []
    },
    {
      "cell_type": "code",
      "metadata": {
        "id": "pSmBBL3hDsJG"
      },
      "source": [
        "# Associar uma label para cada imagem\n",
        "labels = []\n",
        "data = []\n",
        "for img in os.listdir('data/animal-pre'):\n",
        "  en_animal_name = img.split('_')[0]\n",
        "  labels.append(y[INVERSE_TRANSLATE[en_animal_name]])\n",
        "  data.append(cv2.imread(f'data/animal-pre/{img}'))\n",
        "data = np.array(data)"
      ],
      "execution_count": 9,
      "outputs": []
    },
    {
      "cell_type": "code",
      "metadata": {
        "id": "oeD2RlmZCmSH",
        "outputId": "1dcca78d-7be2-453c-fbc9-ff7faf038c17",
        "colab": {
          "base_uri": "https://localhost:8080/",
          "height": 35
        }
      },
      "source": [
        "from collections import Counter\n",
        "n_classes = len(set(labels))\n",
        "print(Counter(labels), n_classes)"
      ],
      "execution_count": 11,
      "outputs": [
        {
          "output_type": "stream",
          "text": [
            "Counter({0: 500, 1: 500, 2: 500, 3: 500, 4: 500}) 5\n"
          ],
          "name": "stdout"
        }
      ]
    },
    {
      "cell_type": "code",
      "metadata": {
        "id": "xpDkypREC7yX",
        "outputId": "8b64e10a-19a3-4326-b514-f6ec3c25c187",
        "colab": {
          "base_uri": "https://localhost:8080/",
          "height": 35
        }
      },
      "source": [
        "len(os.listdir('data/animal-pre'))"
      ],
      "execution_count": 12,
      "outputs": [
        {
          "output_type": "execute_result",
          "data": {
            "text/plain": [
              "2500"
            ]
          },
          "metadata": {
            "tags": []
          },
          "execution_count": 12
        }
      ]
    },
    {
      "cell_type": "code",
      "metadata": {
        "id": "mapNa6M6EZK5",
        "outputId": "f2605a23-6e42-4ff5-e4f3-ac33809075d4",
        "colab": {
          "base_uri": "https://localhost:8080/",
          "height": 217
        }
      },
      "source": [
        "cv2_imshow(data[250])"
      ],
      "execution_count": 14,
      "outputs": [
        {
          "output_type": "display_data",
          "data": {
            "image/png": "[encoded data removed]",
            "text/plain": [
              "<PIL.Image.Image image mode=RGB size=200x200 at 0x7F8946382748>"
            ]
          },
          "metadata": {
            "tags": []
          }
        }
      ]
    },
    {
      "cell_type": "code",
      "metadata": {
        "id": "Ya0mqA-FFwVd",
        "outputId": "438c2cb7-f842-4374-d3ec-c8aa79785cf4",
        "colab": {
          "base_uri": "https://localhost:8080/",
          "height": 35
        }
      },
      "source": [
        "# shuffle index\n",
        "index = np.arange(len(data))\n",
        "np.random.shuffle(index)\n",
        "print(index[:5])"
      ],
      "execution_count": 16,
      "outputs": [
        {
          "output_type": "stream",
          "text": [
            "[ 359  860 2404 2428 2191]\n"
          ],
          "name": "stdout"
        }
      ]
    },
    {
      "cell_type": "code",
      "metadata": {
        "id": "LRu5Ot5dHJg1",
        "outputId": "d073c558-7442-4254-db57-d24542dbd838",
        "colab": {
          "base_uri": "https://localhost:8080/",
          "height": 35
        }
      },
      "source": [
        "labels = np.array(labels)\n",
        "labels[index[:5]]"
      ],
      "execution_count": 19,
      "outputs": [
        {
          "output_type": "execute_result",
          "data": {
            "text/plain": [
              "array([3, 0, 4, 4, 4])"
            ]
          },
          "metadata": {
            "tags": []
          },
          "execution_count": 19
        }
      ]
    },
    {
      "cell_type": "code",
      "metadata": {
        "id": "TbkZBv-WGqCF"
      },
      "source": [
        "# train test split\n",
        "test_size = 0.2\n",
        "test_split = int(len(data) * test_size)\n",
        "\n",
        "X_train = data[index[test_split:]]\n",
        "X_test = data[index[:test_split]]\n",
        "\n",
        "y_train = labels[index[test_split:]]\n",
        "y_test = labels[index[:test_split]]"
      ],
      "execution_count": 20,
      "outputs": []
    },
    {
      "cell_type": "code",
      "metadata": {
        "id": "1IOk3fV2H6yL"
      },
      "source": [
        "y_train = to_categorical(y_train, num_classes=n_classes)\n",
        "y_test = to_categorical(y_test, num_classes=n_classes)"
      ],
      "execution_count": 21,
      "outputs": []
    },
    {
      "cell_type": "code",
      "metadata": {
        "id": "98DMY0aYMq5t"
      },
      "source": [
        "# re-escala 0-1\n",
        "X_train = X_train / 255\n",
        "X_test = X_test / 255"
      ],
      "execution_count": 22,
      "outputs": []
    },
    {
      "cell_type": "code",
      "metadata": {
        "id": "YfIUpbSmNTRl",
        "outputId": "80c39e39-6740-4503-951c-eeb40d968113",
        "colab": {
          "base_uri": "https://localhost:8080/",
          "height": 35
        }
      },
      "source": [
        "X_train.shape"
      ],
      "execution_count": 23,
      "outputs": [
        {
          "output_type": "execute_result",
          "data": {
            "text/plain": [
              "(2000, 200, 200, 3)"
            ]
          },
          "metadata": {
            "tags": []
          },
          "execution_count": 23
        }
      ]
    },
    {
      "cell_type": "markdown",
      "metadata": {
        "id": "6Mr-GPyGNerG"
      },
      "source": [
        "# Arquiteturas de CNN e avaliações"
      ]
    },
    {
      "cell_type": "code",
      "metadata": {
        "id": "-KF0iXxlNgn1"
      },
      "source": [
        "# Arquitetura baseada na aula de deep learning\n",
        "model = Sequential()"
      ],
      "execution_count": 24,
      "outputs": []
    },
    {
      "cell_type": "code",
      "metadata": {
        "id": "8Lq_pLLvNhWY"
      },
      "source": [
        "model.add(Conv2D(filters = 32, kernel_size = (5,5),padding = 'Same', activation ='relu', input_shape = (200,200,3)))\n",
        "model.add(Conv2D(filters = 32, kernel_size = (5,5),padding = 'Same', activation ='relu'))\n",
        "model.add(MaxPool2D(pool_size=(2,2)))\n",
        "model.add(Dropout(0.25))"
      ],
      "execution_count": 25,
      "outputs": []
    },
    {
      "cell_type": "code",
      "metadata": {
        "id": "UvzmGMP3Nxdu"
      },
      "source": [
        "model.add(Conv2D(filters = 64, kernel_size = (3,3),padding = 'Same', activation ='relu'))\n",
        "model.add(Conv2D(filters = 64, kernel_size = (3,3),padding = 'Same', activation ='relu'))\n",
        "model.add(MaxPool2D(pool_size=(2,2), strides=(2,2)))\n",
        "model.add(Dropout(0.25))"
      ],
      "execution_count": 26,
      "outputs": []
    },
    {
      "cell_type": "code",
      "metadata": {
        "id": "RKKoxforN2Gd"
      },
      "source": [
        "model.add(Flatten())\n",
        "model.add(Dense(256, activation = \"relu\"))\n",
        "model.add(Dropout(0.5))\n",
        "model.add(Dense(n_classes, activation = \"softmax\"))"
      ],
      "execution_count": 27,
      "outputs": []
    },
    {
      "cell_type": "code",
      "metadata": {
        "id": "4oQj1r4VN8pP"
      },
      "source": [
        "optimizer = RMSprop(lr=0.001, rho=0.9, epsilon=1e-08, decay=0.0)"
      ],
      "execution_count": 28,
      "outputs": []
    },
    {
      "cell_type": "code",
      "metadata": {
        "id": "WqYamsagN_8-"
      },
      "source": [
        "model.compile(optimizer = optimizer , loss = \"categorical_crossentropy\", metrics=[\"accuracy\"])"
      ],
      "execution_count": 29,
      "outputs": []
    },
    {
      "cell_type": "code",
      "metadata": {
        "id": "wdobs1jhOCco",
        "outputId": "d95a9f4f-af9c-4aca-d2b9-4ff9060a90b8",
        "colab": {
          "base_uri": "https://localhost:8080/",
          "height": 605
        }
      },
      "source": [
        "model.summary()"
      ],
      "execution_count": 30,
      "outputs": [
        {
          "output_type": "stream",
          "text": [
            "Model: \"sequential\"\n",
            "_________________________________________________________________\n",
            "Layer (type)                 Output Shape              Param #   \n",
            "=================================================================\n",
            "conv2d (Conv2D)              (None, 200, 200, 32)      2432      \n",
            "_________________________________________________________________\n",
            "conv2d_1 (Conv2D)            (None, 200, 200, 32)      25632     \n",
            "_________________________________________________________________\n",
            "max_pooling2d (MaxPooling2D) (None, 100, 100, 32)      0         \n",
            "_________________________________________________________________\n",
            "dropout (Dropout)            (None, 100, 100, 32)      0         \n",
            "_________________________________________________________________\n",
            "conv2d_2 (Conv2D)            (None, 100, 100, 64)      18496     \n",
            "_________________________________________________________________\n",
            "conv2d_3 (Conv2D)            (None, 100, 100, 64)      36928     \n",
            "_________________________________________________________________\n",
            "max_pooling2d_1 (MaxPooling2 (None, 50, 50, 64)        0         \n",
            "_________________________________________________________________\n",
            "dropout_1 (Dropout)          (None, 50, 50, 64)        0         \n",
            "_________________________________________________________________\n",
            "flatten (Flatten)            (None, 160000)            0         \n",
            "_________________________________________________________________\n",
            "dense (Dense)                (None, 256)               40960256  \n",
            "_________________________________________________________________\n",
            "dropout_2 (Dropout)          (None, 256)               0         \n",
            "_________________________________________________________________\n",
            "dense_1 (Dense)              (None, 5)                 1285      \n",
            "=================================================================\n",
            "Total params: 41,045,029\n",
            "Trainable params: 41,045,029\n",
            "Non-trainable params: 0\n",
            "_________________________________________________________________\n"
          ],
          "name": "stdout"
        }
      ]
    },
    {
      "cell_type": "code",
      "metadata": {
        "id": "PNINJVZUOEhZ",
        "outputId": "fd07daf9-8c5a-4f16-8a76-b4d1b798f11d",
        "colab": {
          "base_uri": "https://localhost:8080/",
          "height": 219
        }
      },
      "source": [
        "model.fit(X_train, y_train, epochs=5, verbose=1)"
      ],
      "execution_count": 31,
      "outputs": [
        {
          "output_type": "stream",
          "text": [
            "Epoch 1/5\n",
            "63/63 [==============================] - 651s 10s/step - loss: 2.4160 - accuracy: 0.1970\n",
            "Epoch 2/5\n",
            "63/63 [==============================] - 645s 10s/step - loss: 1.6278 - accuracy: 0.2525\n",
            "Epoch 3/5\n",
            "63/63 [==============================] - 647s 10s/step - loss: 1.5760 - accuracy: 0.3015\n",
            "Epoch 4/5\n",
            "63/63 [==============================] - 646s 10s/step - loss: 1.4511 - accuracy: 0.3795\n",
            "Epoch 5/5\n",
            "63/63 [==============================] - 644s 10s/step - loss: 1.4259 - accuracy: 0.4220\n"
          ],
          "name": "stdout"
        },
        {
          "output_type": "execute_result",
          "data": {
            "text/plain": [
              "<tensorflow.python.keras.callbacks.History at 0x7f893e4d3ac8>"
            ]
          },
          "metadata": {
            "tags": []
          },
          "execution_count": 31
        }
      ]
    },
    {
      "cell_type": "code",
      "metadata": {
        "id": "YwrUtwrUORJX",
        "outputId": "c54b9919-1550-4b7e-f251-3e23a9fcc0e8",
        "colab": {
          "base_uri": "https://localhost:8080/",
          "height": 54
        }
      },
      "source": [
        "model.evaluate(X_test,y_test)"
      ],
      "execution_count": 32,
      "outputs": [
        {
          "output_type": "stream",
          "text": [
            "16/16 [==============================] - 34s 2s/step - loss: 1.3802 - accuracy: 0.3320\n"
          ],
          "name": "stdout"
        },
        {
          "output_type": "execute_result",
          "data": {
            "text/plain": [
              "[1.3802154064178467, 0.3319999873638153]"
            ]
          },
          "metadata": {
            "tags": []
          },
          "execution_count": 32
        }
      ]
    },
    {
      "cell_type": "markdown",
      "metadata": {
        "id": "Jk_jPr7hTj77"
      },
      "source": [
        "# Arquitetura baseada no [link](https://machinelearningmastery.com/how-to-develop-a-convolutional-neural-network-to-classify-photos-of-dogs-and-cats/)"
      ]
    },
    {
      "cell_type": "code",
      "metadata": {
        "id": "H2_ipKlPTfuX"
      },
      "source": [
        "model = Sequential()\n",
        "# 1\n",
        "model.add(Conv2D(32, (3, 3), activation='relu', kernel_initializer='he_uniform', padding='same', input_shape=(200, 200, 3)))\n",
        "model.add(MaxPool2D(pool_size=(2, 2)))\n",
        "# 2\n",
        "model.add(Conv2D(64, (3, 3), activation='relu', kernel_initializer='he_uniform', padding='same'))\n",
        "model.add(MaxPool2D(pool_size=(2, 2)))\n",
        "# 3\n",
        "model.add(Conv2D(128, (3, 3), activation='relu', kernel_initializer='he_uniform', padding='same'))\n",
        "model.add(MaxPool2D(pool_size=(2, 2)))\n",
        "\n",
        "model.add(Flatten())\n",
        "model.add(Dense(128, activation='relu', kernel_initializer='he_uniform'))\n",
        "model.add(Dense(n_classes, activation='sigmoid'))"
      ],
      "execution_count": 35,
      "outputs": []
    },
    {
      "cell_type": "code",
      "metadata": {
        "id": "EEw2rW2pT-p1"
      },
      "source": [
        "optimizer = SGD(lr=0.001, momentum=0.9)\n",
        "model.compile(optimizer=optimizer, loss='categorical_crossentropy', metrics=['accuracy']) # loss=binary_crossentropy"
      ],
      "execution_count": 37,
      "outputs": []
    },
    {
      "cell_type": "code",
      "metadata": {
        "id": "rSifXSsvUZBk",
        "outputId": "ceba525f-8561-424b-bd44-e5d0a3fdef51",
        "colab": {
          "base_uri": "https://localhost:8080/",
          "height": 495
        }
      },
      "source": [
        "model.summary()"
      ],
      "execution_count": 38,
      "outputs": [
        {
          "output_type": "stream",
          "text": [
            "Model: \"sequential_3\"\n",
            "_________________________________________________________________\n",
            "Layer (type)                 Output Shape              Param #   \n",
            "=================================================================\n",
            "conv2d_6 (Conv2D)            (None, 200, 200, 32)      896       \n",
            "_________________________________________________________________\n",
            "max_pooling2d_2 (MaxPooling2 (None, 100, 100, 32)      0         \n",
            "_________________________________________________________________\n",
            "conv2d_7 (Conv2D)            (None, 100, 100, 64)      18496     \n",
            "_________________________________________________________________\n",
            "max_pooling2d_3 (MaxPooling2 (None, 50, 50, 64)        0         \n",
            "_________________________________________________________________\n",
            "conv2d_8 (Conv2D)            (None, 50, 50, 128)       73856     \n",
            "_________________________________________________________________\n",
            "max_pooling2d_4 (MaxPooling2 (None, 25, 25, 128)       0         \n",
            "_________________________________________________________________\n",
            "flatten_1 (Flatten)          (None, 80000)             0         \n",
            "_________________________________________________________________\n",
            "dense_2 (Dense)              (None, 128)               10240128  \n",
            "_________________________________________________________________\n",
            "dense_3 (Dense)              (None, 5)                 645       \n",
            "=================================================================\n",
            "Total params: 10,334,021\n",
            "Trainable params: 10,334,021\n",
            "Non-trainable params: 0\n",
            "_________________________________________________________________\n"
          ],
          "name": "stdout"
        }
      ]
    },
    {
      "cell_type": "code",
      "metadata": {
        "id": "qm_kJDWmUZnK",
        "outputId": "40f2df91-579f-49ba-994e-3b8964949ebc",
        "colab": {
          "base_uri": "https://localhost:8080/",
          "height": 219
        }
      },
      "source": [
        "model.fit(X_train, y_train, epochs=5, verbose=1)"
      ],
      "execution_count": 39,
      "outputs": [
        {
          "output_type": "stream",
          "text": [
            "Epoch 1/5\n",
            "63/63 [==============================] - 148s 2s/step - loss: 1.6197 - accuracy: 0.1865\n",
            "Epoch 2/5\n",
            "63/63 [==============================] - 149s 2s/step - loss: 1.6090 - accuracy: 0.1760\n",
            "Epoch 3/5\n",
            "63/63 [==============================] - 149s 2s/step - loss: 1.6091 - accuracy: 0.1785\n",
            "Epoch 4/5\n",
            "63/63 [==============================] - 150s 2s/step - loss: 1.6092 - accuracy: 0.1810\n",
            "Epoch 5/5\n",
            "63/63 [==============================] - 148s 2s/step - loss: 1.6066 - accuracy: 0.1820\n"
          ],
          "name": "stdout"
        },
        {
          "output_type": "execute_result",
          "data": {
            "text/plain": [
              "<tensorflow.python.keras.callbacks.History at 0x7f893b400c18>"
            ]
          },
          "metadata": {
            "tags": []
          },
          "execution_count": 39
        }
      ]
    },
    {
      "cell_type": "code",
      "metadata": {
        "id": "VP-fQ7MtUcPh",
        "outputId": "21bc5365-9fd6-4001-c028-a90ba0ee505a",
        "colab": {
          "base_uri": "https://localhost:8080/",
          "height": 54
        }
      },
      "source": [
        "model.evaluate(X_test,y_test)"
      ],
      "execution_count": 40,
      "outputs": [
        {
          "output_type": "stream",
          "text": [
            "16/16 [==============================] - 10s 650ms/step - loss: 1.6092 - accuracy: 0.2160\n"
          ],
          "name": "stdout"
        },
        {
          "output_type": "execute_result",
          "data": {
            "text/plain": [
              "[1.6091781854629517, 0.2160000056028366]"
            ]
          },
          "metadata": {
            "tags": []
          },
          "execution_count": 40
        }
      ]
    },
    {
      "cell_type": "markdown",
      "metadata": {
        "id": "HiV9aMPxFnEa"
      },
      "source": [
        "# Tentativa de classificação binária Cachorro (dog) vs Cavalo (horse)"
      ]
    },
    {
      "cell_type": "code",
      "metadata": {
        "id": "W7DOmamUFmSY",
        "outputId": "870373a4-8602-41b7-9a2e-a3e86efe970e",
        "colab": {
          "base_uri": "https://localhost:8080/",
          "height": 219
        }
      },
      "source": [
        "# selecionar as imagens somente de cachorros e cavalos\n",
        "bin_data = read_im(['cane', 'cavallo'], 500)\n",
        "bin_data.keys()"
      ],
      "execution_count": 115,
      "outputs": [
        {
          "output_type": "stream",
          "text": [
            "dog <20%>\n",
            "dog <40%>\n",
            "dog <60%>\n",
            "dog <80%>\n",
            "dog <100%>\n",
            "horse <20%>\n",
            "horse <40%>\n",
            "horse <60%>\n",
            "horse <80%>\n",
            "horse <100%>\n"
          ],
          "name": "stdout"
        },
        {
          "output_type": "execute_result",
          "data": {
            "text/plain": [
              "dict_keys(['cane', 'cavallo'])"
            ]
          },
          "metadata": {
            "tags": []
          },
          "execution_count": 115
        }
      ]
    },
    {
      "cell_type": "code",
      "metadata": {
        "id": "90oX5lJvKIhC"
      },
      "source": [
        "X = []\n",
        "for img in bin_data['cane']:\n",
        "  X.append(cv2.resize(img, (200, 200))) # resize to 200x200 pixels)\n",
        "for img in bin_data['cavallo']:\n",
        "  X.append(cv2.resize(img, (200, 200))) # resize to 200x200 pixels)\n",
        "X = np.array(X)\n",
        "y = np.array(500 * [0] + 500 * [1])"
      ],
      "execution_count": 117,
      "outputs": []
    },
    {
      "cell_type": "code",
      "metadata": {
        "id": "5xkOTeBHJqii",
        "outputId": "343d3af7-a254-4217-9047-ed1b2c1e8466",
        "colab": {
          "base_uri": "https://localhost:8080/",
          "height": 35
        }
      },
      "source": [
        "# shuffle index\n",
        "index = np.arange(len(X))\n",
        "np.random.shuffle(index)\n",
        "print(index[:5])"
      ],
      "execution_count": 119,
      "outputs": [
        {
          "output_type": "stream",
          "text": [
            "[953 699  52 661  72]\n"
          ],
          "name": "stdout"
        }
      ]
    },
    {
      "cell_type": "code",
      "metadata": {
        "id": "fXgVqkOIJe3M"
      },
      "source": [
        "# train test split\n",
        "test_size = 0.2\n",
        "test_split = int(len(X) * test_size)\n",
        "\n",
        "X_train = X[index[test_split:]]\n",
        "X_test = X[index[:test_split]]\n",
        "\n",
        "y_train = y[index[test_split:]]\n",
        "y_test = y[index[:test_split]]"
      ],
      "execution_count": 120,
      "outputs": []
    },
    {
      "cell_type": "code",
      "metadata": {
        "id": "5hP3m4_xSfw-"
      },
      "source": [
        "y_train = to_categorical(y_train, num_classes=2)\n",
        "y_test = to_categorical(y_test, num_classes=2)"
      ],
      "execution_count": 121,
      "outputs": []
    },
    {
      "cell_type": "code",
      "metadata": {
        "id": "QoXn3tR8Ni6H"
      },
      "source": [
        "# re-escala\n",
        "X_train = X_train / 255\n",
        "X_test = X_test / 255"
      ],
      "execution_count": 122,
      "outputs": []
    },
    {
      "cell_type": "code",
      "metadata": {
        "id": "bv_nd95_MnpM"
      },
      "source": [
        "# Arquitetura baseada na aula de deep learning\n",
        "model = Sequential()\n",
        "\n",
        "# bloco 1\n",
        "model.add(Conv2D(filters = 32, kernel_size = (5,5),padding = 'Same', activation ='relu', input_shape = (200,200,3)))\n",
        "model.add(Conv2D(filters = 32, kernel_size = (5,5),padding = 'Same', activation ='relu'))\n",
        "model.add(MaxPool2D(pool_size=(2,2)))\n",
        "model.add(Dropout(0.25))\n",
        "\n",
        "# bloco 2\n",
        "model.add(Conv2D(filters = 64, kernel_size = (3,3),padding = 'Same', activation ='relu'))\n",
        "model.add(Conv2D(filters = 64, kernel_size = (3,3),padding = 'Same', activation ='relu'))\n",
        "model.add(MaxPool2D(pool_size=(2,2), strides=(2,2)))\n",
        "model.add(Dropout(0.25))\n",
        "\n",
        "# bloco 3\n",
        "model.add(Flatten())\n",
        "model.add(Dense(256, activation = \"relu\"))\n",
        "model.add(Dropout(0.5))\n",
        "model.add(Dense(2, activation = \"softmax\"))"
      ],
      "execution_count": 125,
      "outputs": []
    },
    {
      "cell_type": "code",
      "metadata": {
        "id": "KI_jRI9sND3J"
      },
      "source": [
        "optimizer = RMSprop(lr=0.001, rho=0.9, epsilon=1e-08, decay=0.0)\n",
        "model.compile(optimizer = optimizer , loss = \"categorical_crossentropy\", metrics=[\"accuracy\"])"
      ],
      "execution_count": 126,
      "outputs": []
    },
    {
      "cell_type": "code",
      "metadata": {
        "id": "1pZS7wcoNUXL",
        "outputId": "8c003081-f008-494a-82a5-0fc7467a209b",
        "colab": {
          "base_uri": "https://localhost:8080/",
          "height": 403
        }
      },
      "source": [
        "model.fit(X_train, y_train, epochs=10, verbose=1)"
      ],
      "execution_count": 129,
      "outputs": [
        {
          "output_type": "stream",
          "text": [
            "Epoch 1/10\n",
            "25/25 [==============================] - 251s 10s/step - loss: 0.6858 - accuracy: 0.5175\n",
            "Epoch 2/10\n",
            "25/25 [==============================] - 253s 10s/step - loss: 0.6962 - accuracy: 0.5700\n",
            "Epoch 3/10\n",
            "25/25 [==============================] - 251s 10s/step - loss: 0.6872 - accuracy: 0.5987\n",
            "Epoch 4/10\n",
            "25/25 [==============================] - 250s 10s/step - loss: 0.6968 - accuracy: 0.6350\n",
            "Epoch 5/10\n",
            "25/25 [==============================] - 252s 10s/step - loss: 0.5454 - accuracy: 0.7325\n",
            "Epoch 6/10\n",
            "25/25 [==============================] - 251s 10s/step - loss: 0.4932 - accuracy: 0.7850\n",
            "Epoch 7/10\n",
            "25/25 [==============================] - 252s 10s/step - loss: 0.4346 - accuracy: 0.8075\n",
            "Epoch 8/10\n",
            "25/25 [==============================] - 250s 10s/step - loss: 0.3952 - accuracy: 0.8537\n",
            "Epoch 9/10\n",
            "25/25 [==============================] - 252s 10s/step - loss: 0.2550 - accuracy: 0.8938\n",
            "Epoch 10/10\n",
            "25/25 [==============================] - 251s 10s/step - loss: 0.1999 - accuracy: 0.9275\n"
          ],
          "name": "stdout"
        },
        {
          "output_type": "execute_result",
          "data": {
            "text/plain": [
              "<tensorflow.python.keras.callbacks.History at 0x7f68ae039630>"
            ]
          },
          "metadata": {
            "tags": []
          },
          "execution_count": 129
        }
      ]
    },
    {
      "cell_type": "code",
      "metadata": {
        "id": "W8pMfpxCa0ZC",
        "outputId": "695b33d3-de16-4ff3-8c7b-21d3063dc4c6",
        "colab": {
          "base_uri": "https://localhost:8080/",
          "height": 54
        }
      },
      "source": [
        "model.evaluate(X_test, y_test)"
      ],
      "execution_count": 130,
      "outputs": [
        {
          "output_type": "stream",
          "text": [
            "7/7 [==============================] - 12s 2s/step - loss: 0.8841 - accuracy: 0.7000\n"
          ],
          "name": "stdout"
        },
        {
          "output_type": "execute_result",
          "data": {
            "text/plain": [
              "[0.8841336965560913, 0.699999988079071]"
            ]
          },
          "metadata": {
            "tags": []
          },
          "execution_count": 130
        }
      ]
    },
    {
      "cell_type": "markdown",
      "metadata": {
        "id": "8nef0FsXEp9y"
      },
      "source": [
        "# Conclusão\n",
        "Em geral, os resultados não foram muito bons.  \n",
        "Pelo o que consigo interpretar, é como se a previsão nas duas arquiteturas apresentadas fossem randômicos. Imagino que possa ser problema de pre-processamento ou até mesmo de quantidade de imagens.  \n",
        "A ideia que tentei é em vez de utilizar imagens de 5 animais diferente, utilizar somente de 2 (ex: Cachorro vs Gato, Cachorro vs Cavalo). Porém, o resultado também foi ruim, ficando com a accuracy ~70% em teste e ~90% em traino. Acredito que tenha tido overfit, provavelmente por conta da quantidade de imagens.  \n",
        "Possíveis melhorias:\n",
        "- [ ] Aumentar a quantidade de imagens\n",
        "- [ ] Melhorar pré-processamento"
      ]
    }
  ]
}