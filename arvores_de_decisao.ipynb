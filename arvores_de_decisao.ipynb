{
  "nbformat": 4,
  "nbformat_minor": 0,
  "metadata": {
    "colab": {
      "name": "arvores_de_decisao.ipynb",
      "provenance": [],
      "collapsed_sections": [],
      "toc_visible": true,
      "authorship_tag": "ABX9TyP/+muysFOjM8NSh7sV6XDP",
      "include_colab_link": true
    },
    "kernelspec": {
      "name": "python3",
      "display_name": "Python 3"
    }
  },
  "cells": [
    {
      "cell_type": "markdown",
      "metadata": {
        "id": "view-in-github",
        "colab_type": "text"
      },
      "source": [
        "<a href=\"https://colab.research.google.com/github/vieirafrancisco/machine-learning-ufal/blob/master/arvores_de_decisao.ipynb\" target=\"_parent\"><img src=\"https://colab.research.google.com/assets/colab-badge.svg\" alt=\"Open In Colab\"/></a>"
      ]
    },
    {
      "cell_type": "code",
      "metadata": {
        "id": "P4mvpzyEbcNv",
        "colab_type": "code",
        "colab": {
          "base_uri": "https://localhost:8080/",
          "height": 35
        },
        "outputId": "25f81f03-5cf1-4f36-ad97-f3063a5ae79a"
      },
      "source": [
        "import os\n",
        "from google.colab import drive\n",
        "\n",
        "drive.mount('drive')\n",
        "os.chdir('drive/My Drive/UFAL/machine-learning-ufal/video-game-sales')"
      ],
      "execution_count": 1,
      "outputs": [
        {
          "output_type": "stream",
          "text": [
            "Drive already mounted at drive; to attempt to forcibly remount, call drive.mount(\"drive\", force_remount=True).\n"
          ],
          "name": "stdout"
        }
      ]
    },
    {
      "cell_type": "markdown",
      "metadata": {
        "id": "V6H9L4vUDN1r",
        "colab_type": "text"
      },
      "source": [
        "# Imports"
      ]
    },
    {
      "cell_type": "code",
      "metadata": {
        "id": "FB3W4gSvboJb",
        "colab_type": "code",
        "colab": {
          "base_uri": "https://localhost:8080/",
          "height": 74
        },
        "outputId": "1b2831ad-07dd-45ef-ac9d-3f3606601644"
      },
      "source": [
        "import pandas as pd\n",
        "import numpy as np\n",
        "import matplotlib.pyplot as plt\n",
        "import seaborn as sns"
      ],
      "execution_count": 11,
      "outputs": [
        {
          "output_type": "stream",
          "text": [
            "/usr/local/lib/python3.6/dist-packages/statsmodels/tools/_testing.py:19: FutureWarning: pandas.util.testing is deprecated. Use the functions in the public API at pandas.testing instead.\n",
            "  import pandas.util.testing as tm\n"
          ],
          "name": "stderr"
        }
      ]
    },
    {
      "cell_type": "markdown",
      "metadata": {
        "id": "coHvM3m7DP4S",
        "colab_type": "text"
      },
      "source": [
        "# Load Data"
      ]
    },
    {
      "cell_type": "code",
      "metadata": {
        "id": "CcRhtCDkbisC",
        "colab_type": "code",
        "colab": {}
      },
      "source": [
        "# load data\n",
        "df = pd.read_csv('data/pre_processed.csv', index_col=False)"
      ],
      "execution_count": 186,
      "outputs": []
    },
    {
      "cell_type": "markdown",
      "metadata": {
        "id": "eo52dX-mDR40",
        "colab_type": "text"
      },
      "source": [
        "# Alguns pré-processamentos"
      ]
    },
    {
      "cell_type": "code",
      "metadata": {
        "id": "aSEzCzP9sUUR",
        "colab_type": "code",
        "colab": {}
      },
      "source": [
        "# remover atributos que não vou utilizar\n",
        "df.drop(['Name', 'Year_of_Release', 'Publisher', 'Critic_Count', 'User_Count'], axis=1, inplace=True)"
      ],
      "execution_count": 187,
      "outputs": []
    },
    {
      "cell_type": "code",
      "metadata": {
        "id": "7NVAISgctcv-",
        "colab_type": "code",
        "colab": {}
      },
      "source": [
        "# critic_score no range 0 a 10\n",
        "df['Critic_Score'] /= 10"
      ],
      "execution_count": 188,
      "outputs": []
    },
    {
      "cell_type": "code",
      "metadata": {
        "id": "yYU5d0zb2RSv",
        "colab_type": "code",
        "colab": {
          "base_uri": "https://localhost:8080/",
          "height": 270
        },
        "outputId": "e9f576bd-512a-4b41-978d-2d198c6ec0ba"
      },
      "source": [
        "sns.boxplot(y=df['Global_Sales'])"
      ],
      "execution_count": 189,
      "outputs": [
        {
          "output_type": "execute_result",
          "data": {
            "text/plain": [
              "<matplotlib.axes._subplots.AxesSubplot at 0x7fa4b3f564a8>"
            ]
          },
          "metadata": {
            "tags": []
          },
          "execution_count": 189
        },
        {
          "output_type": "display_data",
          "data": {
            "image/png": "[encoded data removed]",
            "text/plain": [
              "<Figure size 432x288 with 1 Axes>"
            ]
          },
          "metadata": {
            "tags": [],
            "needs_background": "light"
          }
        }
      ]
    },
    {
      "cell_type": "code",
      "metadata": {
        "id": "Y8lNK-rF2z7j",
        "colab_type": "code",
        "colab": {}
      },
      "source": [
        "# remover outliers\n",
        "global_sales = df['Global_Sales']\n",
        "iqr = global_sales.quantile(.75) - global_sales.quantile(.25)\n",
        "outliers_index = df[df['Global_Sales'] >= (global_sales.quantile(.75) + 1.5 * iqr)].index\n",
        "df.drop(index=outliers_index, axis=0, inplace=True)"
      ],
      "execution_count": 190,
      "outputs": []
    },
    {
      "cell_type": "code",
      "metadata": {
        "id": "_legOJCX4CAy",
        "colab_type": "code",
        "colab": {
          "base_uri": "https://localhost:8080/",
          "height": 270
        },
        "outputId": "f4ec03b2-2cab-4c7f-e299-422c604a2a92"
      },
      "source": [
        "sns.boxplot(y=df['Global_Sales'])"
      ],
      "execution_count": 191,
      "outputs": [
        {
          "output_type": "execute_result",
          "data": {
            "text/plain": [
              "<matplotlib.axes._subplots.AxesSubplot at 0x7fa4b3f5c6d8>"
            ]
          },
          "metadata": {
            "tags": []
          },
          "execution_count": 191
        },
        {
          "output_type": "display_data",
          "data": {
            "image/png": "[encoded data removed]",
            "text/plain": [
              "<Figure size 432x288 with 1 Axes>"
            ]
          },
          "metadata": {
            "tags": [],
            "needs_background": "light"
          }
        }
      ]
    },
    {
      "cell_type": "code",
      "metadata": {
        "id": "0Qt1F_m1u5Xy",
        "colab_type": "code",
        "colab": {}
      },
      "source": [
        "# discretizar atributos categoricos\n",
        "def discretize(df, attr, inplace=False):\n",
        "  possible_values = list(df[attr].unique())\n",
        "  values = list(range(len(possible_values)))\n",
        "  if inplace:\n",
        "    df[attr].replace(possible_values, values, inplace=True)\n",
        "    return\n",
        "  return df[attr].replace(possible_values, values, inplace=False)"
      ],
      "execution_count": 192,
      "outputs": []
    },
    {
      "cell_type": "code",
      "metadata": {
        "id": "NIX7XEw_waj3",
        "colab_type": "code",
        "colab": {}
      },
      "source": [
        "discretize(df, 'Platform', True)\n",
        "discretize(df, 'Genre', True)\n",
        "discretize(df, 'Rating', True)"
      ],
      "execution_count": 193,
      "outputs": []
    },
    {
      "cell_type": "code",
      "metadata": {
        "id": "FVr02mTWs_RH",
        "colab_type": "code",
        "colab": {}
      },
      "source": [
        "# fazer re-escala min-max\n",
        "def min_max(df, attr):\n",
        "  min = df[attr].min()\n",
        "  max = df[attr].max()\n",
        "  return [(x-min)/(max-min) for x in df[attr]]\n",
        "for attr in df.columns:\n",
        "  df[attr] = min_max(df, attr)"
      ],
      "execution_count": 194,
      "outputs": []
    },
    {
      "cell_type": "code",
      "metadata": {
        "id": "oQnBObK4stM7",
        "colab_type": "code",
        "colab": {
          "base_uri": "https://localhost:8080/",
          "height": 143
        },
        "outputId": "2ceb064d-6f88-4a4b-c435-5f7a93a7ec98"
      },
      "source": [
        "df.head(3)"
      ],
      "execution_count": 195,
      "outputs": [
        {
          "output_type": "execute_result",
          "data": {
            "text/html": [
              "<div>\n",
              "<style scoped>\n",
              "    .dataframe tbody tr th:only-of-type {\n",
              "        vertical-align: middle;\n",
              "    }\n",
              "\n",
              "    .dataframe tbody tr th {\n",
              "        vertical-align: top;\n",
              "    }\n",
              "\n",
              "    .dataframe thead th {\n",
              "        text-align: right;\n",
              "    }\n",
              "</style>\n",
              "<table border=\"1\" class=\"dataframe\">\n",
              "  <thead>\n",
              "    <tr style=\"text-align: right;\">\n",
              "      <th></th>\n",
              "      <th>Platform</th>\n",
              "      <th>Genre</th>\n",
              "      <th>NA_Sales</th>\n",
              "      <th>EU_Sales</th>\n",
              "      <th>JP_Sales</th>\n",
              "      <th>Other_Sales</th>\n",
              "      <th>Global_Sales</th>\n",
              "      <th>Critic_Score</th>\n",
              "      <th>User_Score</th>\n",
              "      <th>Rating</th>\n",
              "    </tr>\n",
              "  </thead>\n",
              "  <tbody>\n",
              "    <tr>\n",
              "      <th>692</th>\n",
              "      <td>0.0000</td>\n",
              "      <td>0.000000</td>\n",
              "      <td>0.688623</td>\n",
              "      <td>0.253165</td>\n",
              "      <td>0.000000</td>\n",
              "      <td>0.127119</td>\n",
              "      <td>1.0</td>\n",
              "      <td>0.082353</td>\n",
              "      <td>0.153846</td>\n",
              "      <td>0.0</td>\n",
              "    </tr>\n",
              "    <tr>\n",
              "      <th>693</th>\n",
              "      <td>0.0625</td>\n",
              "      <td>0.090909</td>\n",
              "      <td>0.497006</td>\n",
              "      <td>0.379747</td>\n",
              "      <td>0.014388</td>\n",
              "      <td>0.203390</td>\n",
              "      <td>1.0</td>\n",
              "      <td>0.964706</td>\n",
              "      <td>0.868132</td>\n",
              "      <td>0.2</td>\n",
              "    </tr>\n",
              "    <tr>\n",
              "      <th>694</th>\n",
              "      <td>0.1250</td>\n",
              "      <td>0.181818</td>\n",
              "      <td>0.844311</td>\n",
              "      <td>0.031646</td>\n",
              "      <td>0.000000</td>\n",
              "      <td>0.194915</td>\n",
              "      <td>1.0</td>\n",
              "      <td>0.870588</td>\n",
              "      <td>0.890110</td>\n",
              "      <td>0.0</td>\n",
              "    </tr>\n",
              "  </tbody>\n",
              "</table>\n",
              "</div>"
            ],
            "text/plain": [
              "     Platform     Genre  NA_Sales  ...  Critic_Score  User_Score  Rating\n",
              "692    0.0000  0.000000  0.688623  ...      0.082353    0.153846     0.0\n",
              "693    0.0625  0.090909  0.497006  ...      0.964706    0.868132     0.2\n",
              "694    0.1250  0.181818  0.844311  ...      0.870588    0.890110     0.0\n",
              "\n",
              "[3 rows x 10 columns]"
            ]
          },
          "metadata": {
            "tags": []
          },
          "execution_count": 195
        }
      ]
    },
    {
      "cell_type": "markdown",
      "metadata": {
        "id": "HumDZ6PYDZKT",
        "colab_type": "text"
      },
      "source": [
        "# Treino, teste e avaliação"
      ]
    },
    {
      "cell_type": "code",
      "metadata": {
        "id": "oWFTuEM4y68G",
        "colab_type": "code",
        "colab": {}
      },
      "source": [
        "# separar o target dos demais atributos\n",
        "# 'NA_Sales','EU_Sales', 'JP_Sales', 'Other_Sales', 'Global_Sales'\n",
        "X = df[['Platform', 'Genre', 'Critic_Score', 'User_Score', 'Rating']]\n",
        "y = df['Global_Sales']"
      ],
      "execution_count": 233,
      "outputs": []
    },
    {
      "cell_type": "code",
      "metadata": {
        "id": "s28kPfKrzSoA",
        "colab_type": "code",
        "colab": {
          "base_uri": "https://localhost:8080/",
          "height": 127
        },
        "outputId": "fceac36b-453c-4fa1-eaa2-17a98cce9e4e"
      },
      "source": [
        "from sklearn.model_selection import train_test_split\n",
        "from sklearn.model_selection import cross_val_score\n",
        "from sklearn.tree import DecisionTreeRegressor\n",
        "\n",
        "X_train, X_test, y_train, y_test = train_test_split(X, y, test_size=0.2)\n",
        "\n",
        "regressor = DecisionTreeRegressor(random_state=0)\n",
        "regressor.fit(X_train, y_train)"
      ],
      "execution_count": 234,
      "outputs": [
        {
          "output_type": "execute_result",
          "data": {
            "text/plain": [
              "DecisionTreeRegressor(ccp_alpha=0.0, criterion='mse', max_depth=None,\n",
              "                      max_features=None, max_leaf_nodes=None,\n",
              "                      min_impurity_decrease=0.0, min_impurity_split=None,\n",
              "                      min_samples_leaf=1, min_samples_split=2,\n",
              "                      min_weight_fraction_leaf=0.0, presort='deprecated',\n",
              "                      random_state=0, splitter='best')"
            ]
          },
          "metadata": {
            "tags": []
          },
          "execution_count": 234
        }
      ]
    },
    {
      "cell_type": "code",
      "metadata": {
        "id": "WBetqpMh1WmT",
        "colab_type": "code",
        "colab": {
          "base_uri": "https://localhost:8080/",
          "height": 35
        },
        "outputId": "5e9842e8-e957-44ca-942c-78c0bc8b7f7b"
      },
      "source": [
        "from sklearn.metrics import mean_squared_error\n",
        "mean_squared_error(y_test, regressor.predict(X_test))"
      ],
      "execution_count": 235,
      "outputs": [
        {
          "output_type": "execute_result",
          "data": {
            "text/plain": [
              "0.07188244756767051"
            ]
          },
          "metadata": {
            "tags": []
          },
          "execution_count": 235
        }
      ]
    },
    {
      "cell_type": "code",
      "metadata": {
        "id": "rnx0t1Cn5p26",
        "colab_type": "code",
        "colab": {
          "base_uri": "https://localhost:8080/",
          "height": 146
        },
        "outputId": "ccd8bbc3-ae18-4c03-840c-3a08784ac1c6"
      },
      "source": [
        "from sklearn.model_selection import train_test_split\n",
        "from sklearn.model_selection import cross_val_score\n",
        "from sklearn.ensemble import RandomForestRegressor\n",
        "\n",
        "regressor = RandomForestRegressor(n_estimators=100)\n",
        "regressor.fit(X_train, y_train)"
      ],
      "execution_count": 236,
      "outputs": [
        {
          "output_type": "execute_result",
          "data": {
            "text/plain": [
              "RandomForestRegressor(bootstrap=True, ccp_alpha=0.0, criterion='mse',\n",
              "                      max_depth=None, max_features='auto', max_leaf_nodes=None,\n",
              "                      max_samples=None, min_impurity_decrease=0.0,\n",
              "                      min_impurity_split=None, min_samples_leaf=1,\n",
              "                      min_samples_split=2, min_weight_fraction_leaf=0.0,\n",
              "                      n_estimators=100, n_jobs=None, oob_score=False,\n",
              "                      random_state=None, verbose=0, warm_start=False)"
            ]
          },
          "metadata": {
            "tags": []
          },
          "execution_count": 236
        }
      ]
    },
    {
      "cell_type": "code",
      "metadata": {
        "id": "HXvKlhQo52Mb",
        "colab_type": "code",
        "colab": {
          "base_uri": "https://localhost:8080/",
          "height": 35
        },
        "outputId": "667abebd-f2d2-4b44-8e09-7491eb468d30"
      },
      "source": [
        "mean_squared_error(y_test, regressor.predict(X_test))"
      ],
      "execution_count": 237,
      "outputs": [
        {
          "output_type": "execute_result",
          "data": {
            "text/plain": [
              "0.039604136898624534"
            ]
          },
          "metadata": {
            "tags": []
          },
          "execution_count": 237
        }
      ]
    },
    {
      "cell_type": "code",
      "metadata": {
        "id": "Vt5Qgz8rCyKW",
        "colab_type": "code",
        "colab": {
          "base_uri": "https://localhost:8080/",
          "height": 182
        },
        "outputId": "97a7c8ed-b43b-4077-88e5-fc407403163f"
      },
      "source": [
        "df['Global_Sales'].describe()"
      ],
      "execution_count": 239,
      "outputs": [
        {
          "output_type": "execute_result",
          "data": {
            "text/plain": [
              "count    6321.000000\n",
              "mean        0.224379\n",
              "std         0.230937\n",
              "min         0.000000\n",
              "25%         0.053254\n",
              "50%         0.136095\n",
              "75%         0.319527\n",
              "max         1.000000\n",
              "Name: Global_Sales, dtype: float64"
            ]
          },
          "metadata": {
            "tags": []
          },
          "execution_count": 239
        }
      ]
    }
  ]
}