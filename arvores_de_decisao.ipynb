{
  "nbformat": 4,
  "nbformat_minor": 0,
  "metadata": {
    "colab": {
      "name": "arvores_de_decisao.ipynb",
      "provenance": [],
      "collapsed_sections": [],
      "authorship_tag": "ABX9TyNHM4TOIhiSNxFs9FX9ZFf8",
      "include_colab_link": true
    },
    "kernelspec": {
      "name": "python3",
      "display_name": "Python 3"
    }
  },
  "cells": [
    {
      "cell_type": "markdown",
      "metadata": {
        "id": "view-in-github",
        "colab_type": "text"
      },
      "source": [
        "<a href=\"https://colab.research.google.com/github/vieirafrancisco/machine-learning-ufal/blob/master/arvores_de_decisao.ipynb\" target=\"_parent\"><img src=\"https://colab.research.google.com/assets/colab-badge.svg\" alt=\"Open In Colab\"/></a>"
      ]
    },
    {
      "cell_type": "code",
      "metadata": {
        "id": "P4mvpzyEbcNv",
        "colab_type": "code",
        "colab": {
          "base_uri": "https://localhost:8080/",
          "height": 34
        },
        "outputId": "32d5cd88-5c31-4457-96c5-e8c2476a46e1"
      },
      "source": [
        "import os\n",
        "from google.colab import drive\n",
        "\n",
        "drive.mount('drive')\n",
        "os.chdir('drive/My Drive/UFAL/machine-learning-ufal/video-game-sales')"
      ],
      "execution_count": 1,
      "outputs": [
        {
          "output_type": "stream",
          "text": [
            "Mounted at drive\n"
          ],
          "name": "stdout"
        }
      ]
    },
    {
      "cell_type": "markdown",
      "metadata": {
        "id": "GjZ4xVBja29G",
        "colab_type": "text"
      },
      "source": [
        "# Sobre o dataset\n",
        "**AVISO**: O motivo pelo qual mudei o dataset foi pelo fato do anterior ter limitações para fazer classificação, pela quantidade de dados e atributos não descritores. Porém foi importante para extrair algumas análises interessantes.\n",
        "\n",
        "**Synthetic Financial Datasets For Fraud Detection**\n",
        "\n",
        "[kaggle link](https://www.kaggle.com/ntnu-testimon/paysim1)\n",
        "\n",
        "colunas:  \n",
        "- step - unidade de tempo referente a uma hora (até 744 - 31 dias).\n",
        "\n",
        "- type - CASH-IN (deposito), CASH-OUT (saque), DEBIT (deito), PAYMENT (pagamento) and TRANSFER (transferência).\n",
        "\n",
        "- amount - valor da transação\n",
        "\n",
        "- nameOrig - cliente que começou a transação\n",
        "\n",
        "- oldbalanceOrg - balanço inicial\n",
        "\n",
        "- newbalanceOrig - balanço após transação\n",
        "\n",
        "- nameDest - cliente que recebeu a transação\n",
        "\n",
        "- oldbalanceDest - balanço inicial do cliente que recebeu a transação\n",
        "\n",
        "- newbalanceDest - balanço após transação do cliente que recebeu a transação\n",
        "\n",
        "- isFraud - 1 para faude e 0 não fraude\n",
        "\n",
        "- isFlaggedFraud - flag para tranferências massivas acima de 200.000"
      ]
    },
    {
      "cell_type": "markdown",
      "metadata": {
        "id": "V6H9L4vUDN1r",
        "colab_type": "text"
      },
      "source": [
        "# Imports"
      ]
    },
    {
      "cell_type": "code",
      "metadata": {
        "id": "FB3W4gSvboJb",
        "colab_type": "code",
        "colab": {}
      },
      "source": [
        "from collections import Counter\n",
        "import numpy as np\n",
        "import pandas as pd"
      ],
      "execution_count": 2,
      "outputs": []
    },
    {
      "cell_type": "markdown",
      "metadata": {
        "id": "coHvM3m7DP4S",
        "colab_type": "text"
      },
      "source": [
        "# Load Data"
      ]
    },
    {
      "cell_type": "code",
      "metadata": {
        "id": "CcRhtCDkbisC",
        "colab_type": "code",
        "colab": {}
      },
      "source": [
        "# load data\n",
        "df = pd.read_csv('data/fraud_dataset.csv', index_col=False)"
      ],
      "execution_count": 3,
      "outputs": []
    },
    {
      "cell_type": "markdown",
      "metadata": {
        "id": "ZfTsCBBX7MUe",
        "colab_type": "text"
      },
      "source": [
        "# Análise preliminar"
      ]
    },
    {
      "cell_type": "code",
      "metadata": {
        "id": "0clT--547OVW",
        "colab_type": "code",
        "colab": {
          "base_uri": "https://localhost:8080/",
          "height": 86
        },
        "outputId": "eb02d063-3565-4b28-b837-33f2b104a6e0"
      },
      "source": [
        "# análise preliminar\n",
        "\n",
        "# verificar quantidade de destinatários em transações fraudulentas\n",
        "fraud_transactions = df[df['isFraud']==1]\n",
        "print(f\"quantidade de transações fraudulentas: {len(fraud_transactions)}\")\n",
        "print(f\"quantidade de destinatários em transações fraudulentas: {len(set(fraud_transactions['nameDest']))}\")\n",
        "\n",
        "# verificar quantidade de destinatários em transações não fraudulentas\n",
        "non_fraud_transactions = df[df['isFraud']==0]\n",
        "print(f\"quantidade de transações fraudulentas: {len(non_fraud_transactions)}\")\n",
        "print(f\"quantidade de destinatários em transações fraudulentas: {len(set(non_fraud_transactions['nameDest']))}\")"
      ],
      "execution_count": 4,
      "outputs": [
        {
          "output_type": "stream",
          "text": [
            "quantidade de transações fraudulentas: 8213\n",
            "quantidade de destinatários em transações fraudulentas: 8169\n",
            "quantidade de transações fraudulentas: 6354407\n",
            "quantidade de destinatários em transações fraudulentas: 2719685\n"
          ],
          "name": "stdout"
        }
      ]
    },
    {
      "cell_type": "code",
      "metadata": {
        "id": "Ca5KeRaZ7Syp",
        "colab_type": "code",
        "colab": {
          "base_uri": "https://localhost:8080/",
          "height": 52
        },
        "outputId": "e242f5d7-ba2c-4232-f7a2-3eee73427e49"
      },
      "source": [
        "# vericar letra que fica no inicio de cada id (M vem de Merchant - Comerciante)\n",
        "print(f\"origem: {Counter(list(map(lambda x: x[0], df['nameOrig'])))}\") # como no de origem é constante então vou remover esse atributo\n",
        "print(f\"destinatário: {Counter(list(map(lambda x: x[0], df['nameDest'])))}\") # esse atributo vai ser substituido pela primeira letra"
      ],
      "execution_count": 5,
      "outputs": [
        {
          "output_type": "stream",
          "text": [
            "origem: Counter({'C': 6362620})\n",
            "destinatário: Counter({'C': 4211125, 'M': 2151495})\n"
          ],
          "name": "stdout"
        }
      ]
    },
    {
      "cell_type": "code",
      "metadata": {
        "id": "hptkQMsD7Uog",
        "colab_type": "code",
        "colab": {}
      },
      "source": [
        "# observações:\n",
        "# 1 - Os nomes (ids) parecem não influênciar diretamente em transações fraudulentas\n",
        "# 2 - A quantidade de tuplas com transações fraudulentas é bem discrepante com relação as tuplas que não são.\n",
        "# Será necessário um balanceamento antes de fazer o processo de classificação."
      ],
      "execution_count": 6,
      "outputs": []
    },
    {
      "cell_type": "markdown",
      "metadata": {
        "id": "eo52dX-mDR40",
        "colab_type": "text"
      },
      "source": [
        "# Alguns pré-processamentos"
      ]
    },
    {
      "cell_type": "code",
      "metadata": {
        "id": "aSEzCzP9sUUR",
        "colab_type": "code",
        "colab": {}
      },
      "source": [
        "# pre-processamento\n",
        "\n",
        "# remover tuplas que não serão usadas\n",
        "pre_df = df.drop(['nameOrig', 'step', 'isFlaggedFraud'], axis=1)"
      ],
      "execution_count": 7,
      "outputs": []
    },
    {
      "cell_type": "code",
      "metadata": {
        "id": "Z-TbKPjv7Yq8",
        "colab_type": "code",
        "colab": {}
      },
      "source": [
        "# substituir ids dos destinatários por somente o primero caractere\n",
        "pre_df['nameDest'] = list(map(lambda x: x[0], pre_df['nameDest']))"
      ],
      "execution_count": 8,
      "outputs": []
    },
    {
      "cell_type": "code",
      "metadata": {
        "id": "h2CwrO0v7a0K",
        "colab_type": "code",
        "colab": {}
      },
      "source": [
        "# discretizar atributos categóricos\n",
        "def get_indices(values):\n",
        "    unique_values = list(values.unique())\n",
        "    indices = {value: unique_values.index(value) for value in unique_values}\n",
        "    return indices\n",
        "\n",
        "def discretize(df):\n",
        "    tmp_df = df.copy()\n",
        "    categorical = [column for column in tmp_df.columns if type(tmp_df[column].iloc[0]) == str]\n",
        "    for column in categorical:\n",
        "        indices = get_indices(tmp_df[column])\n",
        "        tmp_df[column] = list(map(lambda x: indices[x],tmp_df[column]))\n",
        "    return tmp_df\n",
        "    \n",
        "pre_df = discretize(pre_df)"
      ],
      "execution_count": 9,
      "outputs": []
    },
    {
      "cell_type": "code",
      "metadata": {
        "id": "XI1HiHVA7fGF",
        "colab_type": "code",
        "colab": {}
      },
      "source": [
        "# fazer re-escala dos atributos\n",
        "# (x - min)/(max - min)\n",
        "for column in pre_df.columns:\n",
        "    values = pre_df[column]\n",
        "    _max = max(values)\n",
        "    _min = min(values)\n",
        "    pre_df[column] = list(map(lambda x: (x-_min)/(_max-_min), values))"
      ],
      "execution_count": 10,
      "outputs": []
    },
    {
      "cell_type": "code",
      "metadata": {
        "id": "7zz7HTDl7hvh",
        "colab_type": "code",
        "colab": {
          "base_uri": "https://localhost:8080/",
          "height": 206
        },
        "outputId": "d2d5cb03-aa50-42c7-dbcf-3598f4bc4fd2"
      },
      "source": [
        "pre_df.head()"
      ],
      "execution_count": 11,
      "outputs": [
        {
          "output_type": "execute_result",
          "data": {
            "text/html": [
              "<div>\n",
              "<style scoped>\n",
              "    .dataframe tbody tr th:only-of-type {\n",
              "        vertical-align: middle;\n",
              "    }\n",
              "\n",
              "    .dataframe tbody tr th {\n",
              "        vertical-align: top;\n",
              "    }\n",
              "\n",
              "    .dataframe thead th {\n",
              "        text-align: right;\n",
              "    }\n",
              "</style>\n",
              "<table border=\"1\" class=\"dataframe\">\n",
              "  <thead>\n",
              "    <tr style=\"text-align: right;\">\n",
              "      <th></th>\n",
              "      <th>type</th>\n",
              "      <th>amount</th>\n",
              "      <th>oldbalanceOrg</th>\n",
              "      <th>newbalanceOrig</th>\n",
              "      <th>nameDest</th>\n",
              "      <th>oldbalanceDest</th>\n",
              "      <th>newbalanceDest</th>\n",
              "      <th>isFraud</th>\n",
              "    </tr>\n",
              "  </thead>\n",
              "  <tbody>\n",
              "    <tr>\n",
              "      <th>0</th>\n",
              "      <td>0.00</td>\n",
              "      <td>0.000106</td>\n",
              "      <td>0.002855</td>\n",
              "      <td>0.003233</td>\n",
              "      <td>0.0</td>\n",
              "      <td>0.000000</td>\n",
              "      <td>0.0</td>\n",
              "      <td>0.0</td>\n",
              "    </tr>\n",
              "    <tr>\n",
              "      <th>1</th>\n",
              "      <td>0.00</td>\n",
              "      <td>0.000020</td>\n",
              "      <td>0.000357</td>\n",
              "      <td>0.000391</td>\n",
              "      <td>0.0</td>\n",
              "      <td>0.000000</td>\n",
              "      <td>0.0</td>\n",
              "      <td>0.0</td>\n",
              "    </tr>\n",
              "    <tr>\n",
              "      <th>2</th>\n",
              "      <td>0.25</td>\n",
              "      <td>0.000002</td>\n",
              "      <td>0.000003</td>\n",
              "      <td>0.000000</td>\n",
              "      <td>1.0</td>\n",
              "      <td>0.000000</td>\n",
              "      <td>0.0</td>\n",
              "      <td>1.0</td>\n",
              "    </tr>\n",
              "    <tr>\n",
              "      <th>3</th>\n",
              "      <td>0.50</td>\n",
              "      <td>0.000002</td>\n",
              "      <td>0.000003</td>\n",
              "      <td>0.000000</td>\n",
              "      <td>1.0</td>\n",
              "      <td>0.000059</td>\n",
              "      <td>0.0</td>\n",
              "      <td>1.0</td>\n",
              "    </tr>\n",
              "    <tr>\n",
              "      <th>4</th>\n",
              "      <td>0.00</td>\n",
              "      <td>0.000126</td>\n",
              "      <td>0.000697</td>\n",
              "      <td>0.000603</td>\n",
              "      <td>0.0</td>\n",
              "      <td>0.000000</td>\n",
              "      <td>0.0</td>\n",
              "      <td>0.0</td>\n",
              "    </tr>\n",
              "  </tbody>\n",
              "</table>\n",
              "</div>"
            ],
            "text/plain": [
              "   type    amount  oldbalanceOrg  ...  oldbalanceDest  newbalanceDest  isFraud\n",
              "0  0.00  0.000106       0.002855  ...        0.000000             0.0      0.0\n",
              "1  0.00  0.000020       0.000357  ...        0.000000             0.0      0.0\n",
              "2  0.25  0.000002       0.000003  ...        0.000000             0.0      1.0\n",
              "3  0.50  0.000002       0.000003  ...        0.000059             0.0      1.0\n",
              "4  0.00  0.000126       0.000697  ...        0.000000             0.0      0.0\n",
              "\n",
              "[5 rows x 8 columns]"
            ]
          },
          "metadata": {
            "tags": []
          },
          "execution_count": 11
        }
      ]
    },
    {
      "cell_type": "markdown",
      "metadata": {
        "id": "jT0yiEh97kwe",
        "colab_type": "text"
      },
      "source": [
        "# Classificação"
      ]
    },
    {
      "cell_type": "code",
      "metadata": {
        "id": "Es0PwEWA7iqa",
        "colab_type": "code",
        "colab": {}
      },
      "source": [
        "# classificação com árvores de decisão\n",
        "\n",
        "from sklearn.tree import DecisionTreeClassifier\n",
        "from sklearn.ensemble import RandomForestClassifier\n",
        "from sklearn.metrics import accuracy_score, precision_score, recall_score\n",
        "from sklearn.model_selection import train_test_split, KFold"
      ],
      "execution_count": 12,
      "outputs": []
    },
    {
      "cell_type": "code",
      "metadata": {
        "id": "G-aqbDsj7nlG",
        "colab_type": "code",
        "colab": {}
      },
      "source": [
        "# hold-out com dataset desbalanceado\n",
        "y = pre_df['isFraud']\n",
        "X = pre_df.drop(['isFraud'], axis=1)\n",
        "X_train, X_test, y_train, y_test = train_test_split(X, y, test_size=0.2) "
      ],
      "execution_count": 13,
      "outputs": []
    },
    {
      "cell_type": "code",
      "metadata": {
        "id": "NjR6f3OA7pZk",
        "colab_type": "code",
        "colab": {
          "base_uri": "https://localhost:8080/",
          "height": 34
        },
        "outputId": "693cf6bf-526a-41bd-a0f0-d0863985d470"
      },
      "source": [
        "dt_clf = DecisionTreeClassifier()\n",
        "dt_clf.fit(X_train, y_train)\n",
        "accuracy_score(y_test, dt_clf.predict(X_test))"
      ],
      "execution_count": 14,
      "outputs": [
        {
          "output_type": "execute_result",
          "data": {
            "text/plain": [
              "0.9997304569501243"
            ]
          },
          "metadata": {
            "tags": []
          },
          "execution_count": 14
        }
      ]
    },
    {
      "cell_type": "code",
      "metadata": {
        "id": "3Kcz1rhf7uKT",
        "colab_type": "code",
        "colab": {}
      },
      "source": [
        "#rf_clf = RandomForestClassifier()\n",
        "#rf_clf.fit(X_train, y_train)\n",
        "#accuracy_score(y_test, rf_clf.predict(X_test))"
      ],
      "execution_count": 15,
      "outputs": []
    },
    {
      "cell_type": "code",
      "metadata": {
        "id": "OnK0Wric81_e",
        "colab_type": "code",
        "colab": {}
      },
      "source": [
        "# balancear dataset\n",
        "is_fraud = pre_df[pre_df['isFraud']==1]\n",
        "non_is_fraud = pre_df[pre_df['isFraud']==0][9000:18000]\n",
        "b_df = is_fraud.append(non_is_fraud)"
      ],
      "execution_count": 16,
      "outputs": []
    },
    {
      "cell_type": "code",
      "metadata": {
        "id": "iunCKRI784wY",
        "colab_type": "code",
        "colab": {}
      },
      "source": [
        "y = b_df['isFraud']\n",
        "X = b_df.drop(['isFraud'], axis=1)\n",
        "X_train, X_test, y_train, y_test = train_test_split(X, y, test_size=0.2) "
      ],
      "execution_count": 17,
      "outputs": []
    },
    {
      "cell_type": "code",
      "metadata": {
        "id": "S57LwyT57v7G",
        "colab_type": "code",
        "colab": {}
      },
      "source": [
        "# função de classificação\n",
        "# retorna a accuracy, precision, recall\n",
        "def classify(clf, X, y, cv=None):\n",
        "    if cv is not None:\n",
        "        accuracy, precision, recall = cross_validation(clf, X, y, cv)\n",
        "    else:\n",
        "        X_train, X_test, y_train, y_test = train_test_split(X, y, test_size=0.2)\n",
        "        accuracy, precision, recall = hold_out(clf, X_train, X_test, y_train, y_test)\n",
        "    return {\"accuracy\": accuracy, \"precision\": precision, \"recall\": recall}\n",
        "    \n",
        "\n",
        "def hold_out(clf, X_train, X_test, y_train, y_test):\n",
        "    # classificar\n",
        "    clf.fit(X_train, y_train)\n",
        "    # predição\n",
        "    y_predict = clf.predict(X_test)\n",
        "\n",
        "    # métricas\n",
        "    acuracia = accuracy_score(y_test, y_predict)\n",
        "    precision = precision_score(y_test, y_predict)\n",
        "    recall = recall_score(y_test, y_predict)\n",
        "    return (acuracia, precision, recall)\n",
        "\n",
        "def cross_validation(clf, X, y, cv):\n",
        "    kf = KFold(n_splits=cv, shuffle=True, random_state=42)\n",
        "    metrics = {\"accuracy\": [], \"precision\": [], \"recall\": []}\n",
        "    for train_index, test_index in kf.split(X):\n",
        "        X_train, X_test = X.iloc[train_index], X.iloc[test_index]\n",
        "        y_train, y_test = y.iloc[train_index], y.iloc[test_index]\n",
        "        accuracy, precision, recall = hold_out(clf, X_train, X_test, y_train, y_test)\n",
        "        metrics[\"accuracy\"].append(accuracy)\n",
        "        metrics[\"precision\"].append(precision)\n",
        "        metrics[\"recall\"].append(recall)\n",
        "    return (np.mean(metrics[\"accuracy\"]), np.mean(metrics[\"precision\"]), np.mean(metrics[\"recall\"]))"
      ],
      "execution_count": 18,
      "outputs": []
    },
    {
      "cell_type": "code",
      "metadata": {
        "id": "C_i1_TfU7xkv",
        "colab_type": "code",
        "colab": {
          "base_uri": "https://localhost:8080/",
          "height": 69
        },
        "outputId": "b04e5004-ca5e-4488-d277-5569662577d9"
      },
      "source": [
        "classify(DecisionTreeClassifier(), X, y)"
      ],
      "execution_count": 19,
      "outputs": [
        {
          "output_type": "execute_result",
          "data": {
            "text/plain": [
              "{'accuracy': 0.991867557362765,\n",
              " 'precision': 0.9939061547836685,\n",
              " 'recall': 0.989084293511219}"
            ]
          },
          "metadata": {
            "tags": []
          },
          "execution_count": 19
        }
      ]
    },
    {
      "cell_type": "code",
      "metadata": {
        "id": "4I83hZ-Q7yRG",
        "colab_type": "code",
        "colab": {
          "base_uri": "https://localhost:8080/",
          "height": 69
        },
        "outputId": "fb7c9dfc-0f81-47e0-cd32-fd4d6d374c9a"
      },
      "source": [
        "classify(RandomForestClassifier(), X, y)"
      ],
      "execution_count": 20,
      "outputs": [
        {
          "output_type": "execute_result",
          "data": {
            "text/plain": [
              "{'accuracy': 0.9939006680220738,\n",
              " 'precision': 0.991166077738516,\n",
              " 'recall': 0.9964476021314387}"
            ]
          },
          "metadata": {
            "tags": []
          },
          "execution_count": 20
        }
      ]
    },
    {
      "cell_type": "code",
      "metadata": {
        "id": "kpNix21o70yf",
        "colab_type": "code",
        "colab": {
          "base_uri": "https://localhost:8080/",
          "height": 69
        },
        "outputId": "76d041b4-00ad-484a-d52b-408adad14e80"
      },
      "source": [
        "# classicação com validação cruzada\n",
        "classify(DecisionTreeClassifier(), X, y, cv=10)"
      ],
      "execution_count": 21,
      "outputs": [
        {
          "output_type": "execute_result",
          "data": {
            "text/plain": [
              "{'accuracy': 0.9931446684766507,\n",
              " 'precision': 0.9915987572100308,\n",
              " 'recall': 0.9940684288663999}"
            ]
          },
          "metadata": {
            "tags": []
          },
          "execution_count": 21
        }
      ]
    },
    {
      "cell_type": "code",
      "metadata": {
        "id": "OgGExw4h72ZC",
        "colab_type": "code",
        "colab": {
          "base_uri": "https://localhost:8080/",
          "height": 69
        },
        "outputId": "e15c6ab5-7835-486d-900a-acbd3ad4aa8c"
      },
      "source": [
        "classify(RandomForestClassifier(), X, y, cv=10)"
      ],
      "execution_count": 22,
      "outputs": [
        {
          "output_type": "execute_result",
          "data": {
            "text/plain": [
              "{'accuracy': 0.9952362731064847,\n",
              " 'precision': 0.9941710715877352,\n",
              " 'recall': 0.9959042913834038}"
            ]
          },
          "metadata": {
            "tags": []
          },
          "execution_count": 22
        }
      ]
    },
    {
      "cell_type": "code",
      "metadata": {
        "id": "SPZt7uR774Bc",
        "colab_type": "code",
        "colab": {}
      },
      "source": [
        "# conclusões:\n",
        "# em geral decision tree e random forest conseguiram discriminar o problema com o dataset apresentado\n",
        "# mesmo no modo hold-out o modelo fez boas previsões com os atributos padrões dos classificadores."
      ],
      "execution_count": 23,
      "outputs": []
    },
    {
      "cell_type": "code",
      "metadata": {
        "id": "lIWH8hGK755S",
        "colab_type": "code",
        "colab": {}
      },
      "source": [
        "# salvar dataset pre-processado\n",
        "pre_df.to_csv('data/fraud_dataset_pre_processed.csv')"
      ],
      "execution_count": 24,
      "outputs": []
    }
  ]
}